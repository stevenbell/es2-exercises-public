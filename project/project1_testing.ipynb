{
 "cells": [
  {
   "cell_type": "markdown",
   "id": "582a44c4",
   "metadata": {},
   "source": [
    "# Lab 1: How accurate is testing?"
   ]
  },
  {
   "cell_type": "markdown",
   "id": "e0053a03",
   "metadata": {},
   "source": [
    "### The parameters of testing\n",
    "\n",
    "There are a few important numbers that describe medical tests. The first is called *sensitivity*. It tells what fraction of sick people do in fact test positive. Of course, we would like our test to detect all sick people (i.e., sensitivity = 1), but that’s rarely possible in real life. When our sensitivity is less than one, that means we get some false negatives – i.e., the test gives a negative result but it’s mistaken.\n",
    "\n",
    "The second important number is the *specificity*. It tells what fraction of healthy people test negative. Of course, we want to have specificity = 1, but again that’s unlikely in real life. When specificity < 1, we get the occasional false positive – a healthy person winds up mistakenly testing positive.\n",
    "\n",
    "A well-run site using a high-quality Covid test (like we have at Tufts) may easily have sensitivity and specificity of .95 or higher. Does that mean our results are quite accurate? That’s what this lab will tell us."
   ]
  },
  {
   "cell_type": "markdown",
   "id": "1004f19a",
   "metadata": {},
   "source": [
    "### How the statistics work\n",
    "Let’s take an example. Assume that there are 10,000 people in our testing pool and 1% of them (100 people) are infected. Assume that we use a test that has 98% sensitivity and 97% specificity. Then consider the following table:\n",
    "\n",
    "<table>\n",
    "<tr><th></th><th>Healthy</th><th>Infected</th></tr>\n",
    "    <tr><td>Test positive</td><td>297</td><td>98</td></tr>\n",
    "    <tr><td>Test negative</td><td>9603</td><td>2</td></tr>\n",
    "</table>\n",
    "    \n",
    "Of the 100 infected people, our 98% sensitivity says that 98 people will correctly test positive and 2 will mistakenly test negative (i.e., a false negative). Of our 9900 healthy people, the 97% specificity says that 9603 will correctly test negative and 297 will result in a false positive.\n",
    "\n",
    "\n",
    "Looking at these numbers, we see that 98+297=395 people test positive. Of these, 98 are true positives (i.e., are actually infected). Thus, if you receive a positive test, then your odds of being infected are 98/395 or roughly 24%. Surprisingly low! (Of course, if, in addition to receiving a positive test, you also feel lousy, are running a fever and have lost your sense of smell then your odds of being infected are probably a whole lot higher).\n",
    "\n",
    "But enough talking; let's do these calcuations with Python."
   ]
  },
  {
   "cell_type": "markdown",
   "id": "759dcccf",
   "metadata": {},
   "source": [
    "Write code to define variables for the three input values.  It is a common coding practice to use `ALL_CAPS` for variable names which are *constants*, i.e., \"magic numbers\" that are used as inputs to the program and should not be modified.  Use the following values:\n",
    "\n",
    "* `N_PEOPLE` : 200000\n",
    "* `SENSITIVITY` : 0.98\n",
    "* `SPECIFICITY` : 0.97\n",
    "\n",
    "Assume that the fraction of the population who is infected remains at 1%."
   ]
  },
  {
   "cell_type": "code",
   "execution_count": null,
   "id": "57fb8e57",
   "metadata": {
    "tags": [
     "student"
    ]
   },
   "outputs": [],
   "source": [
    "# Your code here...\n",
    "\n"
   ]
  },
  {
   "cell_type": "markdown",
   "id": "94c2a044",
   "metadata": {},
   "source": [
    "Now perform calculations similar to the ones described above, but using the variables `SENSITIVITY` and `SPECIFICITY` rather than the actual numbers .98 and .97. After those computations, print out a line like the following (your numbers will be different):\n",
    "\n",
    "> Of the 395 total positives, 25% are true and 75% are false.\n",
    "\n",
    "You may find the string `format` method useful: it replaces the curly braces `{}` with the numbers (or variables) you specify in the parenthesis of `format()`.  Experiment with the code cell below to see how it works."
   ]
  },
  {
   "cell_type": "code",
   "execution_count": null,
   "id": "5a17a708",
   "metadata": {},
   "outputs": [],
   "source": [
    "print(\"the lucky numbers are {} and {}\".format(12, N_PEOPLE))"
   ]
  },
  {
   "cell_type": "code",
   "execution_count": null,
   "id": "84267da0",
   "metadata": {
    "tags": [
     "student"
    ]
   },
   "outputs": [],
   "source": [
    "# Your code here...\n",
    "\n"
   ]
  },
  {
   "cell_type": "markdown",
   "id": "5b86755f",
   "metadata": {},
   "source": [
    "If somebody tells you to spend two weeks of your life quarantining based on having a 24% chance of being infected, you might reasonably push back. Perhaps you should ask for a retest?\n",
    "\n",
    "Using our example numbers from earlier, let's assume that all of the 395 people who test positive ask for a retest. In this new sub-pool, we have 395 people of whom 98 are actually positive. We can use this data to make a new table, assuming that the sensitivity and specificity numbers are unchanged.\n",
    "\n",
    "<table>\n",
    "<tr><th></th><th>Healthy (297)</th><th>Infected (98)</th></tr>\n",
    "    <tr><td>Test positive</td><td>9</td><td>96</td></tr>\n",
    "    <tr><td>Test negative</td><td>288</td><td>2</td></tr>\n",
    "</table>\n",
    "\n",
    "Write code to do these calculations, and print out the results like this (your numbers will be different, of course):\n",
    "\n",
    "> Retest results: of the 105 total positives, 92% are true and 8% are false."
   ]
  },
  {
   "cell_type": "code",
   "execution_count": null,
   "id": "c7ff851d",
   "metadata": {
    "tags": [
     "student"
    ]
   },
   "outputs": [],
   "source": [
    "# Your code here...\n",
    "\n"
   ]
  },
  {
   "cell_type": "markdown",
   "id": "1b7ee577",
   "metadata": {},
   "source": [
    "### Analysis questions\n",
    "\n",
    "1. Suppose you are able to increase the sensitivity of the test to 99.8%, but doing so would cause the specificity to drop to 95%.  Is this a good idea?  *You should play with different numbers in the code until you have an intuitive sense of what would happen!*\n",
    "2. What about going the other way --- increasing the *specificity* to 99.8%, but causing the sensitivity to drop to 95%?\n",
    "3. For a while, Tufts was doing pooled testing, where multiple swabs were combined for a single test, and anyone whose swab-group tested positive had to return for a re-test.  What advantages and disadvantages does this have in terms of accuracy?\n"
   ]
  },
  {
   "cell_type": "markdown",
   "id": "c39c99fb",
   "metadata": {},
   "source": [
    "Write your answers to the above questions in this cell (double-click to edit, just like a code cell).\n"
   ]
  },
  {
   "cell_type": "markdown",
   "id": "b93f3bae",
   "metadata": {},
   "source": [
    "### Challenge problems\n",
    "Each lab will include a few ungraded challenge problems intended to stretch your coding and analytical skills.  If you found this lab easy, take some time to work on these!  Feel free to add more code cells below this one to solve them.\n",
    "\n",
    "1. Given the sensitivity and specificity defined above, how many tests do you need in order to be 99.99% sure that you don’t have Covid?\n",
    "\n",
    "2. Suppose you get tested every two days, and the test has 98% sensitivity.  After a few negative tests, you’ll be very sure you don’t have Covid.  But suppose that each day you also have a 1% chance of getting infected without knowing it.  What is your limit of certainty?  That is, on any given day, how sure can you be that you do not have the illness? You can solve this analytically or with code; we’d love to see both!\n",
    "\n",
    "3. Conveniently, the numbers in this simulation worked out so that a whole number of people tested positive and negative.  But suppose that our initial sample had some other number, giving a fractional number of positive tests.  Clearly it doesn’t make any sense for 120.78 people to test positive, so what is the right thing to do with these numbers?  How would you modify the simulation so that it reflects the reality that individuals test either positive or negative?"
   ]
  }
 ],
 "metadata": {
  "kernelspec": {
   "display_name": "Python 3",
   "language": "python",
   "name": "python3"
  },
  "language_info": {
   "codemirror_mode": {
    "name": "ipython",
    "version": 3
   },
   "file_extension": ".py",
   "mimetype": "text/x-python",
   "name": "python",
   "nbconvert_exporter": "python",
   "pygments_lexer": "ipython3",
   "version": "3.8.0"
  }
 },
 "nbformat": 4,
 "nbformat_minor": 5
}
