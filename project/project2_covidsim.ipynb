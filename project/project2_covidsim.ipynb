{
 "cells": [
  {
   "cell_type": "markdown",
   "id": "df4f8c38",
   "metadata": {},
   "source": [
    "# Project 2: Simulating Covid in a population\n",
    "\n",
    "In this project, you're going to create a basic simulation of an infectious disease.\n",
    "We're going to make a bunch of assumptions to structure our simulation, and then you'll experiment to see how much the outcome depends on these assumptions.\n"
   ]
  },
  {
   "cell_type": "markdown",
   "id": "ae25bef7",
   "metadata": {},
   "source": [
    "Let's assume that people can be in one of 5 categories:\n",
    "1. **Susceptible** (never been infected)\n",
    "2. **Infected/latent** (infected with the virus, but not yet able to infect others)\n",
    "3. **Infected/invisible** (infected and able to transmit the virus to others)\n",
    "4. **Infected/visible** (showing symptoms, and therefore quarantined)\n",
    "5. **Removed** (immune or deceased)\n",
    "\n",
    "On each day, a fraction of people move from one group to another:\n",
    "\n",
    "* Each of the $S$ susceptible people comes into close contact with $\\beta$ people.  Each of those contacts has a $N_{infected-invisible}/N_{people}$ probability of being infected.  And for each infected contact, there is some probability that the susceptible person will be infected, which we'll call the transmissibility, $T$.  Therefore the total number of new infections is $S \\cdot \\beta \\cdot N_{infected-invisible} / N_{people}$\n",
    "\n",
    "* For three infected states, a fixed fraction of that group moves to the next state.  For example, if the infected/latent (IL) state lasts 3 days, then on average 1/3 of the people in the IL group will move to the infected-invisible (II) state each day.\n",
    "\n",
    "* No one leaves the removed state.\n"
   ]
  },
  {
   "cell_type": "markdown",
   "id": "0e722927",
   "metadata": {},
   "source": [
    "To get started, define some constants for the important simulation parameters:\n",
    "* Number of people in the simulation (1000)\n",
    "* Number of days to simulate (100)\n",
    "* Beta ($\\beta$) - the average number of people that each person comes in close contact with every day (3.0)\n",
    "* Transmissibility of the virus ($T$) - the probability that contact with an infected person causes a susceptible person to become infected (0.2)\n",
    "* Duration of the IL state (3 days)\n",
    "* Duration of the II state (3 days)\n",
    "* Duration of the IV state (5 days)"
   ]
  },
  {
   "cell_type": "code",
   "execution_count": null,
   "id": "4b13f102",
   "metadata": {
    "tags": [
     "student"
    ]
   },
   "outputs": [],
   "source": [
    "# Your code here..."
   ]
  },
  {
   "cell_type": "markdown",
   "id": "bbc648e9",
   "metadata": {},
   "source": [
    "Define variables to represent the number of people in each group.\n",
    "Assume that on day 0, one person is in the \"infected latent\" group and everyone else is susceptible.  (i.e., it's a brand-new virus, and no one has immunity yet.)"
   ]
  },
  {
   "cell_type": "code",
   "execution_count": null,
   "id": "f4fa3477",
   "metadata": {
    "tags": [
     "student"
    ]
   },
   "outputs": [],
   "source": [
    "# Your code here..."
   ]
  },
  {
   "cell_type": "markdown",
   "id": "af0cd4f7",
   "metadata": {},
   "source": [
    "For every day of simulation:\n",
    "* Calculate how many people will move from each group to the next\n",
    "* Update the number in each group, based on the number of people who moved in and out\n",
    "\n",
    "Don't round these calculations; otherwise at low infection rates no one will get infected.  If this bothers you, you'll have a chance to think about a better way in the challenge question.\n",
    "\n",
    "**Warning!** You may be tempted to combine these two simulation steps, but be careful about doing that.  Because the number of people moving depends on the number of people in each group, updating the group counts before you've finished calculating the number of people moving will cause subtle miscalculation."
   ]
  },
  {
   "cell_type": "code",
   "execution_count": null,
   "id": "8c50ef00",
   "metadata": {
    "tags": [
     "student"
    ]
   },
   "outputs": [],
   "source": [
    "# Your code here...\n"
   ]
  },
  {
   "cell_type": "markdown",
   "id": "9ca602fc",
   "metadata": {},
   "source": [
    "Print the total number of infections at the end of your simulation.\n",
    "As a check on your work, you should get 74.5765 total infections using the simulation parameters defined above."
   ]
  },
  {
   "cell_type": "code",
   "execution_count": null,
   "id": "c2cadbcc",
   "metadata": {
    "tags": [
     "student"
    ]
   },
   "outputs": [],
   "source": [
    "# Your code here..."
   ]
  },
  {
   "cell_type": "markdown",
   "id": "109b36e6",
   "metadata": {},
   "source": [
    "Make two plots:\n",
    "1. The number of new cases each day\n",
    "2. The cumulative number of cases\n",
    "\n",
    "You'll need to modify your code above to build a list with the necessary values as it runs through the loop.  (Don't just duplicate your code; then you'll have two places to debug!)\n",
    "\n",
    "Make sure to include a title and axis labels on your plots so readers will know what they're looking at!"
   ]
  },
  {
   "cell_type": "code",
   "execution_count": null,
   "id": "dedd1942",
   "metadata": {
    "tags": [
     "student"
    ]
   },
   "outputs": [],
   "source": [
    "# Your code here..."
   ]
  },
  {
   "cell_type": "markdown",
   "id": "08548d6d",
   "metadata": {},
   "source": [
    "## Analysis\n",
    "\n",
    "Experiment with the various parameters and answer the questions below.  You'll need to re-run the whole notebook each time you change parameters at the top.  (A fast way to do this in JupyterLab is `Ctrl-a`, and then `Ctrl-Enter`.  You may need to hit `Esc` first to make sure you're not editing a cell.)\n",
    "\n",
    "1. For each of the simulation parameters, explain how they affect the infection rate and total number of infections.\n",
    "\n",
    "  * The average number of close contacts ($\\beta$)\n",
    "  * Transmissibility of the virus ($T$)\n",
    "  * Duration of the IL state\n",
    "  * Duration of the II state\n",
    "  * Duration of the IV state\n",
    "\n",
    "2. How sensitive is the outcome (total number of infections) to changes in the various parameters?  What does this tell you about our ability to predict the course of an epidemic?\n",
    "\n",
    "\n",
    "*Challenge*:\n",
    "This simulation assumed that everything progressed according to perfect averages, sort of like assuming that flipping a fair coin 10 times will give 5 heads.  How would you create a simulation that works with actual probabilities rather than averages?  What would be the advantages and disadvanges compared to whare we did here?\n"
   ]
  }
 ],
 "metadata": {
  "kernelspec": {
   "display_name": "Python 3",
   "language": "python",
   "name": "python3"
  },
  "language_info": {
   "codemirror_mode": {
    "name": "ipython",
    "version": 3
   },
   "file_extension": ".py",
   "mimetype": "text/x-python",
   "name": "python",
   "nbconvert_exporter": "python",
   "pygments_lexer": "ipython3",
   "version": "3.8.0"
  }
 },
 "nbformat": 4,
 "nbformat_minor": 5
}
