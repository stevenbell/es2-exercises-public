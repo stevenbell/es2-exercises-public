{
 "cells": [
  {
   "cell_type": "markdown",
   "id": "204c1b1f",
   "metadata": {},
   "source": [
    "# MBTA passenger data exploration\n",
    "\n",
    "The [MBTA systemwide passenger survey dashboard](https://www.bostonmpo.org/dv/mbtasurvey2018/) shows an impressive amount of data in a well-organized way, but there is even more data than the dashboard shows.  In this project, you'll dig into the raw data to answer a few more questions, and then generate some plots of your own.\n"
   ]
  },
  {
   "cell_type": "markdown",
   "id": "e955ffc0",
   "metadata": {},
   "source": [
    "## Loading the data\n",
    "\n",
    "The data is available for download as an [Excel spreadsheet file](https://www.bostonmpo.org/dv/mbtasurvey2018/MBTA%20systemwide%20survey%20results%20by%20station%20and%20line.xlsx).  To simplify things, we've converted this into a JSON file containing the same data called `mbta_line_data.json`.  It should have been copied to your working directory along with this notebook, and you can load it like any other JSON file:"
   ]
  },
  {
   "cell_type": "code",
   "execution_count": null,
   "id": "5ebda83b",
   "metadata": {},
   "outputs": [],
   "source": [
    "import json\n",
    "data = json.load(open(\"mbta_line_data.json\"))"
   ]
  },
  {
   "cell_type": "markdown",
   "id": "26e3d172",
   "metadata": {},
   "source": [
    "Take some time to poke around through the data (you can open up the JSON file in JupyterLab or a web browser to get a \"tree view\" of its structure) and figure out how it is organized."
   ]
  },
  {
   "cell_type": "markdown",
   "id": "1c055af3",
   "metadata": {},
   "source": [
    "## Answering some data questions\n",
    "Write code to help you find the answers to each of the following questions:\n",
    "\n",
    "1. Which bus route carries the most passengers? (Note that the survey numbers been normalized based on actual rider counts from a similar time period to account for different response rates, so the published survey numbers are proportional to the number of riders.  The \"count\" value for each category contains the normalization factor that has been applied --- don't include this as you're counting passengers!)"
   ]
  },
  {
   "cell_type": "code",
   "execution_count": null,
   "id": "a4fb49d3",
   "metadata": {
    "tags": [
     "student"
    ]
   },
   "outputs": [],
   "source": [
    "# Your code here..."
   ]
  },
  {
   "cell_type": "markdown",
   "id": "efc4f2f1",
   "metadata": {},
   "source": [
    "2. Which route (of all modalities) has the highest percentage of students riding to school?"
   ]
  },
  {
   "cell_type": "code",
   "execution_count": null,
   "id": "89c699f4",
   "metadata": {
    "tags": [
     "student"
    ]
   },
   "outputs": [],
   "source": [
    "# Your code here..."
   ]
  },
  {
   "cell_type": "markdown",
   "id": "739fce31",
   "metadata": {},
   "source": [
    "3. Make a scatterplot showing the percentage of riders receiving [reduced fares](https://www.mbta.com/fares/reduced) versus the percentage of riders who are classified as low-income.\n",
    "  Note that there are two reduced-fare categories (one for a monthly pass, and one for pay-per-ride), so you'll want to include both of these and divide by the total number of fares."
   ]
  },
  {
   "cell_type": "code",
   "execution_count": null,
   "id": "beee1c11",
   "metadata": {
    "tags": [
     "student"
    ]
   },
   "outputs": [],
   "source": [
    "# Your code here..."
   ]
  },
  {
   "cell_type": "markdown",
   "id": "c754d3c0",
   "metadata": {},
   "source": [
    "## Making your own visualization\n",
    "\n",
    "Construct your own visualization of the MBTA data.\n",
    "\n",
    "Your visualization must:\n",
    "* Display lots of data at once (e.g., show all the bus routes on one figure, or show all of the demographic data for all of the subway lines.)\n",
    "* Allow the viewer to examine multiple variables, and ideally make connections between variables.\n",
    "* Be written with matplotlib\n",
    "\n",
    "[The matplotlib gallery](https://matplotlib.org/stable/gallery/) is always good if you need inspiration.  You might also get ideas from the [Altair gallery](https://altair-viz.github.io/gallery/index.html), but note that you'll need to implement your visualization using matplotlib.\n",
    "\n",
    "Data visualization an iterative process.  You'll make a graph or two, analyze them to find interesting trends, and then redraw the graph to show those trends more clearly.  Experiment, try new ideas, and make mistakes!\n"
   ]
  },
  {
   "cell_type": "code",
   "execution_count": null,
   "id": "4a76a1f1",
   "metadata": {
    "tags": [
     "student"
    ]
   },
   "outputs": [],
   "source": [
    "# Your code here..."
   ]
  },
  {
   "cell_type": "markdown",
   "id": "c6605b1f",
   "metadata": {},
   "source": [
    "Fill in your answers to the questions below:\n",
    "* What were your goals for your visualization?  What were you hoping to achieve?\n",
    "* Why did you choose the encodings (position, length, color, etc) you did?  Do they save space, invite comparison, etc?\n",
    "* What interesting things do you see from your visualization?\n"
   ]
  }
 ],
 "metadata": {
  "kernelspec": {
   "display_name": "Python 3",
   "language": "python",
   "name": "python3"
  },
  "language_info": {
   "codemirror_mode": {
    "name": "ipython",
    "version": 3
   },
   "file_extension": ".py",
   "mimetype": "text/x-python",
   "name": "python",
   "nbconvert_exporter": "python",
   "pygments_lexer": "ipython3",
   "version": "3.8.0"
  }
 },
 "nbformat": 4,
 "nbformat_minor": 5
}
