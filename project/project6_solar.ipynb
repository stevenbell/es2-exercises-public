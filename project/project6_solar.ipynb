{
 "cells": [
  {
   "cell_type": "markdown",
   "id": "9cd254cd",
   "metadata": {},
   "source": [
    "# Solar installations\n",
    "\n",
    "\n",
    "To get things started, let's load the data for this project.\n",
    "\n",
    "We've provided a single CSV file which combines census-tract-level data from Google's [Project Sunroof](https://sunroof.withgoogle.com/data-explorer/) and the US Census Bureau's 2013 [American Community Survey (ACS)](https://www.census.gov/data/developers/data-sets/acs-5year.2013.html).  Downloading the raw ACS data turns out to be a bit tricky because there is so much information; at the end of this project is a challenge problem to use web requests to download other bits of data that you might want."
   ]
  },
  {
   "cell_type": "code",
   "execution_count": null,
   "id": "232a60fe",
   "metadata": {},
   "outputs": [],
   "source": [
    "import pandas as pd\n",
    "import numpy as np\n",
    "import matplotlib.pyplot as plt\n",
    "\n",
    "data = pd.read_csv('CensusSunroofMerged.csv')\n",
    "\n",
    "data.columns"
   ]
  },
  {
   "cell_type": "markdown",
   "id": "f0cb378d",
   "metadata": {},
   "source": [
    "## Exploring the data\n",
    "\n",
    "What is in the data?\n",
    "\n",
    "There are several columns identifying the census tract:\n",
    "* `line`  Line number from the CSV file\n",
    "* `region_id_str`  Identifier for the geographic region, unique within the entire dataset\n",
    "* `tract_number`  Tract ID number, only unique within a county\n",
    "* `state_name`  Full name of the state that this tract is part of\n",
    "* `county_name`  Full name of the county that this tract is part of.  Includes the word \"county\"\n",
    "\n",
    "Then we have the Project Sunroof data (you can read the full description of the data columns in the Sunroof [metadata.csv](https://storage.googleapis.com/project-sunroof/csv/latest/metadata.csv) file.\n",
    "* `percent_covered`  Percentage of buildings in Google Maps covered by Project Sunroof\n",
    "* `existing_installs_count`  Number of buildings estimated to have a solar installation at time of data collection\n",
    "* `count_qualified`  Number of buildings in Google Maps that are suitable for solar\n",
    "\n",
    "And finally we have demographic data from the US Census Bureau:\n",
    "* `Med_HHD_Inc_ACS_09_13`  Median household income\n",
    "* `Renter_Occp_HU_ACS_09_13`  *Number* of renter-occupied housing units\n",
    "* `Owner_Occp_HU_ACS_09_13` *Number* of owner-occupied housing units\n",
    "* `pct_NH_Asian_alone_ACS_09_13` *Percentage* of population that identifies as Asian (and non-Hispanic)\n",
    "* `pct_NH_Blk_alone_ACS_09_13` ... Black (and non-Hispanic)\n",
    "* `pct_Hispanic_ACS_09_13` ... Hispanic\n",
    "* `pct_NH_White_alone_ACS_09_13` ... White (and non-Hispanic)"
   ]
  },
  {
   "cell_type": "markdown",
   "id": "b016ae93",
   "metadata": {},
   "source": [
    "## Preliminary analysis\n",
    "1. There are approximately 73000 census tracts in the US (50 states plus Washington DC).  How many census tracts does Project Sunroof have data for?"
   ]
  },
  {
   "cell_type": "code",
   "execution_count": null,
   "id": "5560cf0f",
   "metadata": {
    "tags": [
     "student"
    ]
   },
   "outputs": [],
   "source": [
    "# Your code here..."
   ]
  },
  {
   "cell_type": "markdown",
   "id": "83a7e890",
   "metadata": {},
   "source": [
    "2. Calculate the solar installation rate (i.e., the number of existing solar installations divided by the number of rooftops which are qualified).  Which census tract has highest installation rate?  \n",
    "\n",
    "*Hint 1: you will need to filter the data in order to get a realistic answer.  There isn't a unique right answer, so you should include a brief explanation of why your answer is correct.*\n",
    "\n",
    "*Hint 2: The [pandas `idxmax()`](https://pandas.pydata.org/docs/reference/api/pandas.Series.idxmax.html#pandas.Series.idxmax) may be useful.  You can use [pandas `loc[]`](https://pandas.pydata.org/docs/user_guide/indexing.html#indexing-integer) if you need to grab a particular row based on the label returned by `idxmax()`*\n",
    "\n",
    "*Challenge*: See if you can find this place on Google maps and look at the aerial imagery.  Do you see all the solar panels?"
   ]
  },
  {
   "cell_type": "code",
   "execution_count": null,
   "id": "67649911",
   "metadata": {
    "tags": [
     "student"
    ]
   },
   "outputs": [],
   "source": [
    "# Your code here..."
   ]
  },
  {
   "cell_type": "markdown",
   "id": "239dc0ec",
   "metadata": {},
   "source": [
    "3. Make a scatter plot showing the solar installation rate (as calculated above) as a function of the median household income for each census tract."
   ]
  },
  {
   "cell_type": "code",
   "execution_count": null,
   "id": "41bbcec5",
   "metadata": {
    "tags": [
     "student"
    ]
   },
   "outputs": [],
   "source": [
    "# Your code here..."
   ]
  },
  {
   "cell_type": "markdown",
   "id": "0c44ee20",
   "metadata": {},
   "source": [
    "## Evaluating equity\n",
    "\n",
    "In this part of the project, you'll examine the data to see if are are racial/ethnic disparities in who is installing solar.  Obviously solar adoption is dependant on income, and there are major income disparities between racial groups, so our goal here will be to see if there is still a disparity *after controlling for income*.  We'll start with the state of California, but we encourage you to try other states as well.\n",
    "\n",
    "### Cleaning the data\n",
    "To do this, start by \"cleaning\" the data.  You've already seen some of the wacky stuff in the data; we'll need to remove any obviously erroneous data points before we run the analysis. \n",
    "\n",
    "* Remove any tracts (data rows) where the Project Sunroof coverage is less than 95% or over 100%.\n",
    "* Remove any tracts where the median income is less than $23834 (the 2013 poverty threshold) or is NaN.  (The `~` operator may be useful here; it inverts all the `True`/`False` values in a NumPy/pandas array.)\n",
    "* Remove any tracts where there are no qualified buildings for solar (`count_qualified` is 0).\n",
    "* Remove any tracts where there are more installations than qualified buildings.\n",
    "\n"
   ]
  },
  {
   "cell_type": "code",
   "execution_count": null,
   "id": "13ce649c",
   "metadata": {
    "tags": [
     "student"
    ]
   },
   "outputs": [],
   "source": [
    "data = pd.read_csv('CensusSunroofMerged.csv')\n",
    "data = data[data[\"state_name\"] == \"California\"] # Feel free to select another state here\n",
    "\n",
    "# Your code here..."
   ]
  },
  {
   "cell_type": "markdown",
   "id": "1022c473",
   "metadata": {},
   "source": [
    "### Solar adoption by race\n",
    "1. Calculate the solar installation fraction for your cleaned data set.\n",
    "2. For each of the four racial groups (white/black/hispanic/asian):\n",
    "    * Select the tracts where the racial group comprises a majority of the population (> 50%)\n",
    "    * Find a polynomial fit that estimates the solar installation fraction as a function of household income for the selected tracts.\n",
    "    \n",
    "        * You can choose the polynomial degree.  Once you get your code working, experiment with different degree polynomials and see if it affects your answer.  Try small numbers like 1 and big numbers like 20.\n",
    "        * You may want to look back at lecture 16 for the curve-fitting example code.\n",
    "        * *Hint: Jupyter may hang if you try to curve-fit with data containing `Inf` or `NaN` values.  Make sure you've removed all of these in your data-cleaning step!*\n",
    "\n",
    "3. Plot all four polynomials on the same graph.\n"
   ]
  },
  {
   "cell_type": "code",
   "execution_count": null,
   "id": "57413b2e",
   "metadata": {
    "tags": [
     "student"
    ]
   },
   "outputs": [],
   "source": [
    "# Your code here..."
   ]
  },
  {
   "cell_type": "markdown",
   "id": "3e55f727",
   "metadata": {},
   "source": [
    "### Analysis\n",
    "\n",
    "Based on your results, do you think there is sufficient evidence that there are racial/ethnic disparities in rooftop solar adoption in California when correcting for median household income? Why or why not?\n",
    "\n",
    "To read more, take a look at the article [Disparities in rooftop photovoltaics deployment in the United States by race and ethnicity](https://escholarship.org/content/qt5sz1j52z/qt5sz1j52z.pdf) by Deborah Sunter et. al.  They do a much more careful analysis of the data than we've done here, while the statistical analysis techniques are beyond what we've talked about in class, you should at least look at the pretty graphs in the paper and read their conclusions.  (As a side note, Deborah Sunter is a [professor in the CEE department here at Tufts](https://engineering.tufts.edu/cee/people/faculty/deborah-sunter)).\n"
   ]
  },
  {
   "cell_type": "markdown",
   "id": "1aa49d67",
   "metadata": {
    "tags": [
     "studet"
    ]
   },
   "source": [
    "*Replace this markdown block with your answer.  Double-click to edit.*"
   ]
  },
  {
   "cell_type": "markdown",
   "id": "f1e3cd63",
   "metadata": {},
   "source": [
    "# Challenge: retreiving US census data from the web\n",
    "\n",
    "The Census Bureau collects a lot more data than we've given you here, and there are some tracts that don't appear in the dataset.\n",
    "\n",
    "There are several questions you could try to answer with additional data:\n",
    "\n",
    "* What fraction of the US population is covered by Project Sunroof?\n",
    "* Are there demographic differences between the areas covered by Project Sunroof and not?  I.e., is Project Sunroof coverage representative of the US population as a whole?\n",
    "\n",
    "The US Census Bureau has an extensive API but it is not particularly well documented.  Here are a couple API URLs to get you started:\n",
    "`https://api.census.gov/data/2013/acs/acs5?get=NAME,B01001_001E&for=tract:*&in=state:25`\n",
    "\n",
    "You can get a list of state IDs here: `https://api.census.gov/data/2013/acs/acs5?get=NAME,B01001_001E&for=state:*` \n",
    "\n",
    "\n",
    "Note: please be careful about how many requests you make the the US Census API.  If your code makes more than a dozen requests at a time, please put in a `sleep()` statement to pause for a couple seconds between requests.\n"
   ]
  }
 ],
 "metadata": {
  "kernelspec": {
   "display_name": "Python 3",
   "language": "python",
   "name": "python3"
  },
  "language_info": {
   "codemirror_mode": {
    "name": "ipython",
    "version": 3
   },
   "file_extension": ".py",
   "mimetype": "text/x-python",
   "name": "python",
   "nbconvert_exporter": "python",
   "pygments_lexer": "ipython3",
   "version": "3.8.0"
  }
 },
 "nbformat": 4,
 "nbformat_minor": 5
}
