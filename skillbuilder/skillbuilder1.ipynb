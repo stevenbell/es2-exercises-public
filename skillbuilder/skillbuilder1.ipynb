{
 "cells": [
  {
   "cell_type": "markdown",
   "metadata": {
    "nbgrader": {
     "grade": false,
     "grade_id": "cell-8183c451e116761c",
     "locked": true,
     "schema_version": 3,
     "solution": false,
     "task": false
    }
   },
   "source": [
    "# Skill builder 1\n",
    "This skill builder is based on the readings for week 1:\n",
    "\n",
    "* Chapter 2: Variables, expressions, and statements ([Coding Rooms](https://app.codingrooms.com/app/course/es-2-04-HzKPoxE), [Runestone Academy](https://runestone.academy/ns/books/published/py4e-int/variables/toctree.html))\n",
    "\n",
    "This notebook is actually running Python, so you can (and should!) execute the code that you write to see the results."
   ]
  },
  {
   "cell_type": "markdown",
   "metadata": {
    "nbgrader": {
     "grade": false,
     "grade_id": "cell-227b3c3429eea45a",
     "locked": true,
     "schema_version": 3,
     "solution": false,
     "task": false
    }
   },
   "source": [
    "## 1)\n",
    "Write a line of code that prints \"Hello, ES 2!\":"
   ]
  },
  {
   "cell_type": "code",
   "execution_count": null,
   "metadata": {
    "nbgrader": {
     "grade": false,
     "grade_id": "cell-27545eed353b6810",
     "locked": false,
     "schema_version": 3,
     "solution": true,
     "task": false
    },
    "tags": [
     "student"
    ]
   },
   "outputs": [],
   "source": [
    "\n"
   ]
  },
  {
   "cell_type": "markdown",
   "metadata": {
    "nbgrader": {
     "grade": false,
     "grade_id": "cell-31793d424bdd58b7",
     "locked": true,
     "schema_version": 3,
     "solution": false,
     "task": false
    }
   },
   "source": [
    "## 2)\n",
    "Write code which computes $2^{10}$ and saves the answer in a variable named `power`.  Make sure the result is an integer (not a floating-point number)."
   ]
  },
  {
   "cell_type": "code",
   "execution_count": null,
   "metadata": {
    "nbgrader": {
     "grade": false,
     "grade_id": "cell-bf717853dab8ea49",
     "locked": false,
     "schema_version": 3,
     "solution": true,
     "task": false
    },
    "tags": [
     "student"
    ]
   },
   "outputs": [],
   "source": [
    "\n"
   ]
  },
  {
   "cell_type": "markdown",
   "metadata": {},
   "source": [
    "## 3)\n",
    "\n",
    "What is the type of `'4,327,581,284'`?  Try it if you're not sure!\n",
    "\n",
    "A) `str`  \n",
    "B) `int`  \n",
    "C) sequence of `int`  \n",
    "D) `float`  \n",
    "E) This is illegal in Python"
   ]
  },
  {
   "cell_type": "code",
   "execution_count": null,
   "metadata": {
    "nbgrader": {
     "grade": true,
     "grade_id": "cell-201bedfa35b163a6",
     "locked": false,
     "points": 1,
     "schema_version": 3,
     "solution": true,
     "task": false
    },
    "tags": [
     "student"
    ]
   },
   "outputs": [],
   "source": [
    "answer3 = '' # Put your answer here, as a letter A-E\n",
    "\n"
   ]
  },
  {
   "cell_type": "markdown",
   "metadata": {},
   "source": [
    "## 4)\n",
    "Python variable names have to follow certain rules.  Comment out the lines below which contain invalid variable names by putting a `#` at the beginning of the line.  (*Hint: if you run the cell, it will become obvious which ones are invalid.*)"
   ]
  },
  {
   "cell_type": "code",
   "execution_count": null,
   "metadata": {
    "nbgrader": {
     "grade": true,
     "grade_id": "cell-d97aec1c3e0d674d",
     "locked": false,
     "points": 1,
     "schema_version": 3,
     "solution": true,
     "task": false
    }
   },
   "outputs": [],
   "source": [
    "nameOne = 1\n",
    "name2 = 2\n",
    "name-three = 3\n",
    "name_four = 4\n",
    "@namefive = 5\n",
    "NAMESIX = 6\n",
    "7name = 7\n",
    "name eight = 8\n",
    "NAME_NINE = 9\n",
    "make.it.ten = 10"
   ]
  },
  {
   "cell_type": "markdown",
   "metadata": {},
   "source": [
    "## 5)\n",
    "Write code to compute (one side of) the quadratic formula: $x_1 = \\frac{-b + (b^2 - 4ac)^\\frac{1}{2}}{2a}$."
   ]
  },
  {
   "cell_type": "code",
   "execution_count": null,
   "metadata": {
    "nbgrader": {
     "grade": true,
     "grade_id": "cell-ca3e32bf94b1c08e",
     "locked": false,
     "points": 1,
     "schema_version": 3,
     "solution": true,
     "task": false
    }
   },
   "outputs": [],
   "source": [
    "# Define the constants a, b, and c.\n",
    "# You can change these as needed to test your code, but don't forget\n",
    "# to re-run this cell (or the whole notebook) when you do!\n",
    "a = 3\n",
    "b = 12\n",
    "c = 2"
   ]
  },
  {
   "cell_type": "code",
   "execution_count": null,
   "metadata": {
    "nbgrader": {
     "grade": true,
     "grade_id": "cell-ca3e32bf94b1c08e",
     "locked": false,
     "points": 1,
     "schema_version": 3,
     "solution": true,
     "task": false
    },
    "tags": [
     "student"
    ]
   },
   "outputs": [],
   "source": [
    "# Replace this (terribly incorrect) implementation with a correct one \n",
    "x = 2\n",
    "\n"
   ]
  },
  {
   "cell_type": "markdown",
   "metadata": {},
   "source": [
    "To submit this skillbuilder, download your completed notebook (`File -> Download`), and upload it via [CodePost](codepost.io).\n",
    "\n",
    "The autograder should run immediately, and you can resubmit as many times as you like until you get everything correct.  However, if you're stuck on a question and find yourself guessing and resubmitting repeatedly, please reach out!  We're more than happy to talk through it and help you understand whatever it is that's not clicking."
   ]
  }
 ],
 "metadata": {
  "kernelspec": {
   "display_name": "Python 3",
   "language": "python",
   "name": "python3"
  },
  "language_info": {
   "codemirror_mode": {
    "name": "ipython",
    "version": 3
   },
   "file_extension": ".py",
   "mimetype": "text/x-python",
   "name": "python",
   "nbconvert_exporter": "python",
   "pygments_lexer": "ipython3",
   "version": "3.8.0"
  }
 },
 "nbformat": 4,
 "nbformat_minor": 4
}
