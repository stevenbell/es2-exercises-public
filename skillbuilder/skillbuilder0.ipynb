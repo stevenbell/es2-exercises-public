{
 "cells": [
  {
   "cell_type": "markdown",
   "id": "fde024d5",
   "metadata": {},
   "source": [
    "# Skillbuilder test\n",
    "This is a test assignment so that you can get practice completing and submitting a notebook on codePost, and work out any bugs in the process."
   ]
  },
  {
   "cell_type": "markdown",
   "id": "6a7fcc85",
   "metadata": {},
   "source": [
    "# 1)\n",
    "In the cell below, write Python code which will set the variable `success` to the integer value 1."
   ]
  },
  {
   "cell_type": "code",
   "execution_count": 2,
   "id": "bb6d0eaa",
   "metadata": {
    "tags": [
     "student"
    ]
   },
   "outputs": [],
   "source": [
    "\n"
   ]
  },
  {
   "cell_type": "markdown",
   "id": "aafccd0d",
   "metadata": {},
   "source": [
    "# Submitting\n",
    "\n",
    "1. Download a copy of this notebook to your computer (`File -> Download`). This will save a file called `skillbuilder0.ipynb` to your computer (usually in \"Downloads\" or something similar).\n",
    "2. Log into [codePost](https://codepost.io).  You should see an assignment called \"Test assignment\".\n",
    "3. Submit the `skillbuilder0.ipynb` file as your assignment on codePost."
   ]
  }
 ],
 "metadata": {
  "kernelspec": {
   "display_name": "Python 3",
   "language": "python",
   "name": "python3"
  },
  "language_info": {
   "codemirror_mode": {
    "name": "ipython",
    "version": 3
   },
   "file_extension": ".py",
   "mimetype": "text/x-python",
   "name": "python",
   "nbconvert_exporter": "python",
   "pygments_lexer": "ipython3",
   "version": "3.8.0"
  }
 },
 "nbformat": 4,
 "nbformat_minor": 5
}
