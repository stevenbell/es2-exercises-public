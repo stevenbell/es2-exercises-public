{
 "cells": [
  {
   "cell_type": "markdown",
   "id": "bdda9c2f",
   "metadata": {},
   "source": [
    "# Skill builder 5\n",
    "\n",
    "Just like the last skill builder, you'll want to make sure that your functions *return* their results, and don't simply print them out.  If you don't explicitly return a value the result will be `None`, so if you're seeing `None` where you didn't expect it, or the right result is being printed but the assertions still fail, make sure you're actually returning the value.  You shouldn't need to use `print()` inside any of your functions."
   ]
  },
  {
   "cell_type": "markdown",
   "id": "d4b93da2",
   "metadata": {
    "nbgrader": {
     "grade": false,
     "grade_id": "cell-5387ccd598acd532",
     "locked": true,
     "schema_version": 3,
     "solution": false,
     "task": false
    }
   },
   "source": [
    "## 1)\n",
    "Write a function named `count_occurances` which counts the occurances of a particular letter in a string.  It should take a string (`haystack`) as the first argument, and a character (`needle`) as the second argument, and return the number of times the character appeared in the string."
   ]
  },
  {
   "cell_type": "code",
   "execution_count": null,
   "id": "a93b963f",
   "metadata": {
    "nbgrader": {
     "grade": false,
     "grade_id": "cell-3e4496034e1d0dfb",
     "locked": false,
     "schema_version": 3,
     "solution": true,
     "task": false
    },
    "tags": [
     "student"
    ]
   },
   "outputs": [],
   "source": [
    "def count_occurances(haystack, needle):\n",
    "# Your code here...\n",
    "\n",
    "# Here's one example test, but you should add more\n",
    "# Don't forget to check \"corner cases\", such as where the needed isn't in the haystack\n",
    "print(count_occurances(\"the wheels on the bus go round and round\", \"e\") == 4)"
   ]
  },
  {
   "cell_type": "markdown",
   "id": "7a2f1eef",
   "metadata": {
    "nbgrader": {
     "grade": false,
     "grade_id": "cell-cbe61ab8480b5d33",
     "locked": true,
     "schema_version": 3,
     "solution": false,
     "task": false
    }
   },
   "source": [
    "## 2)\n",
    "Write a function called `first_half()` which takes a single string parameter and returns the first half of the string.  If there are an odd number of characters, round down.  For example, `first_half(\"nothing\")` should return `\"not\"`."
   ]
  },
  {
   "cell_type": "code",
   "execution_count": null,
   "id": "734d8ce2",
   "metadata": {
    "nbgrader": {
     "grade": false,
     "grade_id": "cell-aaebdaf20b031cd4",
     "locked": false,
     "schema_version": 3,
     "solution": true,
     "task": false
    },
    "tags": [
     "student"
    ]
   },
   "outputs": [],
   "source": [
    "# Your code here..."
   ]
  },
  {
   "cell_type": "markdown",
   "id": "10f54745",
   "metadata": {},
   "source": [
    "## 3)\n",
    "Write a function called `heading` which takes a single string argument and centers it by padding `#` characters.  For the function call `heading(\"This is the title\")`, your function should return the string:\n",
    "\n",
    "    ############################## This is the title ###############################\n",
    "\n",
    "* The width of the result should be exactly 80 characters.\n",
    "* The padding should be the same on both sides.  If you need an odd number of padding characters, put the extra one on the right.\n",
    "* If the input string is too long, then your function should truncate it so that there is room for 3 `#` characters plus a space on each side:\n",
    "\n",
    "      ### This is the title that never ends, it just goes on and on (and on and on ###"
   ]
  },
  {
   "cell_type": "code",
   "execution_count": null,
   "id": "0897c942",
   "metadata": {
    "nbgrader": {
     "grade": true,
     "grade_id": "cell-1d85b813399c21a8",
     "locked": true,
     "points": 2,
     "schema_version": 3,
     "solution": false,
     "task": false
    },
    "tags": [
     "student"
    ]
   },
   "outputs": [],
   "source": [
    "# Your code here...\n",
    "\n",
    "# Example tests from the description above\n",
    "head = heading(\"This is the title\")\n",
    "print(head)\n",
    "print(\"length: {}\".format(len(head)))\n",
    "\n",
    "head = heading(\"This is the title that never ends, it just goes on and on (and on and on) my friend.\")\n",
    "print(head)\n",
    "print(\"length: {}\".format(len(head)))"
   ]
  },
  {
   "cell_type": "markdown",
   "id": "fce5a9b4",
   "metadata": {
    "nbgrader": {
     "grade": false,
     "grade_id": "cell-9fc830b5ecc8dcb9",
     "locked": true,
     "schema_version": 3,
     "solution": false,
     "task": false
    }
   },
   "source": [
    "## 4)\n",
    "Write a function called `read_vector` which takes the name of a file, reads the integers in the file, and returns those integers as a list.  Each integer is on a separate line.  You can look at the file `testvec.csv` as an example."
   ]
  },
  {
   "cell_type": "code",
   "execution_count": null,
   "id": "9ee176da",
   "metadata": {
    "nbgrader": {
     "grade": false,
     "grade_id": "cell-ee6cc44f10f5639b",
     "locked": false,
     "schema_version": 3,
     "solution": true,
     "task": false
    },
    "tags": [
     "student"
    ]
   },
   "outputs": [],
   "source": [
    "# Your code here...\n",
    "\n",
    "# Example test using the file \"testvec.csv\"\n",
    "# You may want to modify it and/or create some more files for testing\n",
    "values = read_vector(\"testvec.csv\")\n",
    "print(values)"
   ]
  },
  {
   "cell_type": "markdown",
   "id": "054a253f",
   "metadata": {
    "nbgrader": {
     "grade": false,
     "grade_id": "cell-ee88a044b45535a8",
     "locked": true,
     "schema_version": 3,
     "solution": false,
     "task": false
    }
   },
   "source": [
    "## 5)\n",
    "\n",
    "Create a function called `write_vector` which takes a list of integers and a filename (as string), and writes those integers in sequence to a file with the given filename, one number on each line.\n",
    "\n",
    "If the list is empty, or contains items other than integers, your function should not create a file."
   ]
  },
  {
   "cell_type": "code",
   "execution_count": null,
   "id": "a5fa7928",
   "metadata": {
    "nbgrader": {
     "grade": false,
     "grade_id": "cell-56f54279d0987c54",
     "locked": false,
     "schema_version": 3,
     "solution": true,
     "task": false
    },
    "tags": [
     "student"
    ]
   },
   "outputs": [],
   "source": [
    "def write_vector(vector, filename):\n",
    "# Your code here...\n",
    "\n",
    "vec = [1, 2, 3, 10]\n",
    "write_vector(vec, \"testwrite.csv\")\n",
    "\n",
    "# \"%cat\" is a Jupyter \"magic command\" (not Python) that prints out the contents of a file\n",
    "# You should also see the file appear in the file browser pane, and you can open it there\n",
    "%cat testwrite.csv"
   ]
  }
 ],
 "metadata": {
  "kernelspec": {
   "display_name": "Python 3",
   "language": "python",
   "name": "python3"
  },
  "language_info": {
   "codemirror_mode": {
    "name": "ipython",
    "version": 3
   },
   "file_extension": ".py",
   "mimetype": "text/x-python",
   "name": "python",
   "nbconvert_exporter": "python",
   "pygments_lexer": "ipython3",
   "version": "3.8.0"
  }
 },
 "nbformat": 4,
 "nbformat_minor": 5
}
