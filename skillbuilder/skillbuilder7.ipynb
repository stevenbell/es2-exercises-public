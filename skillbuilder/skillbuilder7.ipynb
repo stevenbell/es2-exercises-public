{
 "cells": [
  {
   "cell_type": "markdown",
   "id": "203166d8",
   "metadata": {},
   "source": [
    "# Calculating correlation\n",
    "\n",
    "The full equation for the correlation coefficient is\n",
    "\n",
    "$$\\rho_{X, Y} = \\frac{\\mathrm{\\mathrm{cov}\\left(X,Y\\right)}}{\\sigma_{X}\\sigma_{Y}}$$\n",
    "\n",
    "where $\\sigma_X$ and $\\sigma_Y$ are the standard deviations of $X$ and $Y$ respectively.  The covariance ($\\mathrm{cov}$) is given by:\n",
    "\n",
    "$$\\mathrm{cov}\\left(X,Y\\right) = \\mathrm{E}\\left[\\left(X-\\mu_{X}\\right)\\left(Y-\\mu_{Y}\\right)\\right]$$\n",
    "\n",
    "where $\\mu_X$ and $\\mu_Y$ are the means of $X$ and $Y$, and $\\mathrm{E}$ is the \"expected value\" (a fancy-pants term for the mean) of the term in the square brackets.  Note that $X$ and $Y$ are vectors (aka lists or arrays) of numbers, and this is the *average of multiplying the corresponding X and Y values*, not the *product of the averages of X and Y*.\n",
    "\n",
    "# 1) Compute correlation the \"hard\" way\n",
    "\n",
    "In the code cell below, write code to compute the correlation of `X` and `Y`:\n",
    "\n",
    "1. Compute the means $\\mu_X$ and $\\mu_Y$ and save them in variables called `meanX` and `meanY`.\n",
    "2. Compute the covariance $\\mathrm{cov}\\left(X,Y\\right)$ and save it in a variable named `cov`.\n",
    "3. Compute the correlation of $X$ and $Y$, and save it in a variable called `corr`.\n",
    "\n",
    "You can (and should) test your code by changing the `generateData()` function to return different values."
   ]
  },
  {
   "cell_type": "code",
   "execution_count": null,
   "id": "9dc7118a",
   "metadata": {},
   "outputs": [],
   "source": [
    "# You can change this function, but don't move it to another cell\n",
    "import numpy as np\n",
    "\n",
    "def generateData():\n",
    "    np.random.seed(1) # Start the random number generater at a known state\n",
    "    x = np.random.randn(100) # 100 random numbers, centered at 0\n",
    "    y = x + np.random.randn(100) * 0.5\n",
    "    \n",
    "    return (x, y)"
   ]
  },
  {
   "cell_type": "code",
   "execution_count": null,
   "id": "6c646b24",
   "metadata": {
    "tags": [
     "student"
    ]
   },
   "outputs": [],
   "source": [
    "# Call the function above to generate some data.  If you want to change the data, change the\n",
    "# function above, not this line.  Otherwise the autograder will fail, and we will both be sad.\n",
    "X, Y = generateData()\n",
    "\n",
    "# Your code here...\n",
    "\n",
    "# Example showing the data and the correlation; you can remove this if you want\n",
    "import matplotlib.pyplot as plt\n",
    "plt.scatter(X, Y)\n",
    "plt.title(\"Correlation: {}\".format(corr))\n",
    "plt.show()"
   ]
  },
  {
   "cell_type": "markdown",
   "id": "12a3d736",
   "metadata": {},
   "source": [
    "# 2) Compute correlation the easy way\n",
    "\n",
    "As you'd expect, NumPy has a built-in function to compute the correlation coefficient: `corrcoef(a, b)`, where `a` and `b` are two arrays of data.  (WARNING: there is also a NumPy function called `correlate()` which does a totally different thing that also happens to be called correlation.)\n",
    "\n",
    "Use the `corrcoef()` function to compute the correlation between `X` and `Y` and save the result into a variable called `corr2`.  Note that `corrcoef()` will return an array of values instead of a single number --- you'll need to figure out which value in the array is the one you care about, and extract only that value."
   ]
  },
  {
   "cell_type": "code",
   "execution_count": null,
   "id": "3b8671ae",
   "metadata": {
    "tags": [
     "student"
    ]
   },
   "outputs": [],
   "source": [
    "X, Y = generateData()\n",
    "\n",
    "# Your code here...\n",
    "\n",
    "print(corr2)"
   ]
  },
  {
   "cell_type": "markdown",
   "id": "c4390571",
   "metadata": {},
   "source": [
    "# 3) Your own data\n",
    "\n",
    "Create a dataset (lists of points in variables called `x` and `y`) which are obviously related, but which have a statistical correlation of 0 (within floating-point rounding error).  There should be at least 10 unique data points (i.e., both `x` and `y` should have a length $\\ge$ 10, and repeated points don't count toward the total).\n",
    "\n",
    "*Challenge*: Make `x` and `y` contain at least 1000 unique points."
   ]
  },
  {
   "cell_type": "code",
   "execution_count": null,
   "id": "217fdcce",
   "metadata": {
    "tags": [
     "student"
    ]
   },
   "outputs": [],
   "source": [
    "# Your code here...\n",
    "\n",
    "plt.scatter(x, y)\n",
    "# Add a title to the plot showing the correlation\n",
    "# Your code here...\n",
    "plt.show()"
   ]
  }
 ],
 "metadata": {
  "kernelspec": {
   "display_name": "Python 3",
   "language": "python",
   "name": "python3"
  },
  "language_info": {
   "codemirror_mode": {
    "name": "ipython",
    "version": 3
   },
   "file_extension": ".py",
   "mimetype": "text/x-python",
   "name": "python",
   "nbconvert_exporter": "python",
   "pygments_lexer": "ipython3",
   "version": "3.8.0"
  }
 },
 "nbformat": 4,
 "nbformat_minor": 5
}
