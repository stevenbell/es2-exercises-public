{
 "cells": [
  {
   "cell_type": "markdown",
   "id": "795552fd",
   "metadata": {},
   "source": [
    "# Skill builder 6\n"
   ]
  },
  {
   "cell_type": "markdown",
   "id": "a78b2e6c",
   "metadata": {},
   "source": [
    "## 1)\n",
    "\n",
    "Define a dictionary named `counters` with 3 key-value pairs.  The keys should be strings, and the corresponding values should be lists."
   ]
  },
  {
   "cell_type": "code",
   "execution_count": null,
   "id": "e19eac3c",
   "metadata": {
    "tags": [
     "student"
    ]
   },
   "outputs": [],
   "source": [
    "# Your code here..."
   ]
  },
  {
   "cell_type": "markdown",
   "id": "bca87830",
   "metadata": {},
   "source": [
    "## 2)\n",
    "\n",
    "Write a function called `shopping()` which takes a dictionary of items and quantities, and returns a string containing neatly formatted directions.  For example, the dictionary `{'sirloin steak':1, 'apples':8, 'pears':2}` should result in:\n",
    "\n",
    "    Put 1 sirloin steak in the cart\n",
    "    Put 8 apples in the cart\n",
    "    Put 2 pears in the cart"
   ]
  },
  {
   "cell_type": "code",
   "execution_count": null,
   "id": "aa1b8fbb",
   "metadata": {
    "tags": [
     "student"
    ]
   },
   "outputs": [],
   "source": [
    "# Your code here..."
   ]
  },
  {
   "cell_type": "markdown",
   "id": "cf0ef914",
   "metadata": {},
   "source": [
    "## 3)\n",
    "Write a function `checkout()` which calculates the total cost of everything in my shopping cart, and returns this value.  The shopping cart is a list of dictionaries, where each dictionary contains the keys `item`, `quantity`, and `price` (i.e., price/each).  See the test code below for an example."
   ]
  },
  {
   "cell_type": "code",
   "execution_count": null,
   "id": "17f2718e",
   "metadata": {
    "tags": [
     "student"
    ]
   },
   "outputs": [],
   "source": [
    "# Your code here...\n",
    "\n",
    "# Example test: create a cart, call the function, and check the total\n",
    "cart = [{'item':'macaroni', 'quantity':1, 'price':0.99}, {'item':'doughnuts', 'quantity':4, 'price':0.75}]\n",
    "total = checkout(cart)\n",
    "print(\"Total is ${}\".format(total))\n",
    "\n",
    "# Remember that we never, ever compare floating-point numbers for equality\n",
    "# So we'll use the \"isclose()\" function to make sure we have the right answer\n",
    "from math import isclose\n",
    "print(isclose(total, 3.99))"
   ]
  },
  {
   "cell_type": "markdown",
   "id": "3f34ac74",
   "metadata": {},
   "source": [
    "## 4)\n",
    "\n",
    "Write a function called `char_count` which takes a string and returns a dictionary where the keys are characters (`\"a\"`, `\"b\"`, `\" \"` and so on) and the values are the number of times the corresponding character appears in the input string.  For example, `char_count(\"hello!\")` should return `{\"h\":1, \"e\":1, \"l\":2, \"o\":1, \"!\":1}`.  The dictionary order doesn't matter.\n",
    "\n",
    "Remember that you can use the `in` keyword to check if a key exists in a dictionary."
   ]
  },
  {
   "cell_type": "code",
   "execution_count": null,
   "id": "1d9023b0",
   "metadata": {
    "tags": [
     "student"
    ]
   },
   "outputs": [],
   "source": [
    "# Your code here...\n",
    "\n",
    "# One example test, you'll want to write more of your own\n",
    "print(char_count(\"hello!\"))"
   ]
  }
 ],
 "metadata": {
  "kernelspec": {
   "display_name": "Python 3",
   "language": "python",
   "name": "python3"
  },
  "language_info": {
   "codemirror_mode": {
    "name": "ipython",
    "version": 3
   },
   "file_extension": ".py",
   "mimetype": "text/x-python",
   "name": "python",
   "nbconvert_exporter": "python",
   "pygments_lexer": "ipython3",
   "version": "3.8.0"
  }
 },
 "nbformat": 4,
 "nbformat_minor": 5
}
