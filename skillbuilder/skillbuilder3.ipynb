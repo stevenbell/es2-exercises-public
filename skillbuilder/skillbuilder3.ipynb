{
 "cells": [
  {
   "cell_type": "markdown",
   "id": "ca08f5d1",
   "metadata": {},
   "source": [
    "# Skill Builder 3"
   ]
  },
  {
   "cell_type": "markdown",
   "id": "872f9ded",
   "metadata": {},
   "source": [
    "# 1)\n",
    "Write a bit of code which takes the list `numbers` and creates a new list called `positivenumbers` containing only the values from `numbers` which are $\\ge 0$."
   ]
  },
  {
   "cell_type": "code",
   "execution_count": null,
   "id": "a609646e",
   "metadata": {},
   "outputs": [],
   "source": [
    "numbers = [5, -2, 10293, -0.0001, 3.1, 4, -99.999, 0]"
   ]
  },
  {
   "cell_type": "code",
   "execution_count": null,
   "id": "edbc9ecb",
   "metadata": {
    "tags": [
     "student"
    ]
   },
   "outputs": [],
   "source": [
    "# Your code here..."
   ]
  },
  {
   "cell_type": "markdown",
   "id": "205d5019",
   "metadata": {},
   "source": [
    "# 2)\n",
    "\n",
    "Write code to calculate the sum of all the numbers between 0 and 1000 which are multiples of 3 or 7.  Save your result in a variable called `sum37`."
   ]
  },
  {
   "cell_type": "code",
   "execution_count": null,
   "id": "72d359b7",
   "metadata": {
    "tags": [
     "student"
    ]
   },
   "outputs": [],
   "source": [
    "# Your code here..."
   ]
  },
  {
   "cell_type": "markdown",
   "id": "dc7be58a",
   "metadata": {},
   "source": [
    "# 3)\n",
    "Write a bit of code to return a list named `triangles` containing all the triangular numbers *strictly less than* $M$ (not to be confused with the first $M$ triangular numbers, which you did last week).  As usual, there are multiple ways to do this!  Watch out for \"off-by-one\" errors where you accidentally print one too many numbers."
   ]
  },
  {
   "cell_type": "code",
   "execution_count": null,
   "id": "3618e575",
   "metadata": {},
   "outputs": [],
   "source": [
    "# You can change this value of M to test your code, but don't put any other code in this cell\n",
    "M = 100"
   ]
  },
  {
   "cell_type": "code",
   "execution_count": null,
   "id": "7b0b3d88",
   "metadata": {
    "tags": [
     "student"
    ]
   },
   "outputs": [],
   "source": [
    "# Your code here..."
   ]
  },
  {
   "cell_type": "markdown",
   "id": "4688cf7b",
   "metadata": {},
   "source": [
    "# 4)\n",
    "Write code to copy the characters in the string `paragraph` into a new string `sentence` up to and including the first period (`.`)\n",
    "For example, `\"Hello. This is your captain speaking.\"` should produce `\"Hello.\"`\n",
    "\n",
    "Strings don't have an `append()` method like lists, but you *can* use the `+` operator to add more text to the end of a string."
   ]
  },
  {
   "cell_type": "code",
   "execution_count": null,
   "id": "4c668c7a",
   "metadata": {},
   "outputs": [],
   "source": [
    "# You can change this definition to test your code, but don't put any other code in this cell\n",
    "paragraph = \"Spam, egg and spam, baked beans and spam.  Spam, egg, sausage and spam.  Do you have anything without spam?\""
   ]
  },
  {
   "cell_type": "code",
   "execution_count": null,
   "id": "4fb71bf8",
   "metadata": {
    "tags": [
     "student"
    ]
   },
   "outputs": [],
   "source": [
    "# Your code here..."
   ]
  },
  {
   "cell_type": "markdown",
   "id": "b7cb164d",
   "metadata": {},
   "source": [
    "If you want some more mathematical/numerical problems to stretch your programming skills, check out [Project Euler](http://projecteuler.net/archives)."
   ]
  }
 ],
 "metadata": {
  "kernelspec": {
   "display_name": "Python 3",
   "language": "python",
   "name": "python3"
  },
  "language_info": {
   "codemirror_mode": {
    "name": "ipython",
    "version": 3
   },
   "file_extension": ".py",
   "mimetype": "text/x-python",
   "name": "python",
   "nbconvert_exporter": "python",
   "pygments_lexer": "ipython3",
   "version": "3.8.0"
  }
 },
 "nbformat": 4,
 "nbformat_minor": 5
}
