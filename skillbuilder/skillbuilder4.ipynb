{
 "cells": [
  {
   "cell_type": "markdown",
   "id": "a3ade875",
   "metadata": {},
   "source": [
    "# Skill builder 4"
   ]
  },
  {
   "cell_type": "markdown",
   "id": "5a42b2f3",
   "metadata": {},
   "source": [
    "## 1) \n",
    "Write a function called `deg2rad` which takes takes a single argument (an angle in degrees) and returns the value in radians.  Remember that you can use `math.pi` instead of trying to type out $\\pi$ to 15 digits."
   ]
  },
  {
   "cell_type": "code",
   "execution_count": null,
   "id": "331bd8c5",
   "metadata": {
    "tags": [
     "student"
    ]
   },
   "outputs": [],
   "source": [
    "# Your code here..."
   ]
  },
  {
   "cell_type": "code",
   "execution_count": null,
   "id": "2abc5ae0",
   "metadata": {},
   "outputs": [],
   "source": [
    "# You can check your code with code like this.  If the result of\n",
    "# the function is close to the second number (to ~10 decimal places),\n",
    "# then it will print \"True\".  You'll want to add a few tests of your\n",
    "# own to be sure that it's working for all possible inputs.\n",
    "print(math.isclose(deg2rad(45), math.pi / 4))"
   ]
  },
  {
   "cell_type": "markdown",
   "id": "a77eda7c",
   "metadata": {},
   "source": [
    "## 2)\n",
    "Write a function called `triangle` which takes a single integer $N$ as an argument and returns the $N^{th}$ triangle number.  If $N$ is negative, return 0.\n",
    "You may be able to re-use your triangle-number code from last week, but remember that the function must return a single integer, not a list of numbers."
   ]
  },
  {
   "cell_type": "code",
   "execution_count": null,
   "id": "a65c9e1f",
   "metadata": {
    "tags": [
     "student"
    ]
   },
   "outputs": [],
   "source": [
    "# Your code here..."
   ]
  },
  {
   "cell_type": "code",
   "execution_count": null,
   "id": "ec29c3fe",
   "metadata": {},
   "outputs": [],
   "source": [
    "# One test example, you probably want more\n",
    "print(triangle(3) == 6)"
   ]
  },
  {
   "cell_type": "markdown",
   "id": "5691f772",
   "metadata": {},
   "source": [
    "## 3)\n",
    "Write a function `getLongest()` which accepts a list of strings and returns the longest string in the list.\n",
    "If the list is empty, your function should return `None`.  If two strings have the same length, return the first one.\n"
   ]
  },
  {
   "cell_type": "code",
   "execution_count": null,
   "id": "1d12fc90",
   "metadata": {
    "tags": [
     "student"
    ]
   },
   "outputs": [],
   "source": [
    "# Your code here..."
   ]
  },
  {
   "cell_type": "code",
   "execution_count": null,
   "id": "9ce301e4",
   "metadata": {},
   "outputs": [],
   "source": [
    "# Example test\n",
    "strlist1 = [\"ES2\", \"Intro.\", \"to\", \"Computing\", \"for\", \"Engineers\"]\n",
    "longest1 = getLongest(strlist1)\n",
    "\n",
    "print(longest1)"
   ]
  },
  {
   "cell_type": "markdown",
   "id": "17cc2dd4",
   "metadata": {},
   "source": [
    "## 4)\n",
    "Write a function called `threshold()` which accepts two parameters: a list of numbers, and a threshold.  Every value in the list which is greater than the threshold should be replaced with `1`, and every value less than or equal should be replaced with `0`.  This is (unsurprisingly) called *thresholding*, and is a common technique in many kinds of data processing, particularly in [image processing](https://en.wikipedia.org/wiki/Thresholding_(image_processing))."
   ]
  },
  {
   "cell_type": "code",
   "execution_count": null,
   "id": "3ce9f91b",
   "metadata": {
    "tags": [
     "student"
    ]
   },
   "outputs": [],
   "source": [
    "# Your code here..."
   ]
  },
  {
   "cell_type": "code",
   "execution_count": null,
   "id": "f1a52ccd",
   "metadata": {},
   "outputs": [],
   "source": [
    "# Example test\n",
    "a = [1, 2, 3, 4, 5]\n",
    "threshold(a, 3)\n",
    "print(a)\n",
    "print(a == [0, 0, 0, 1, 1])\n"
   ]
  }
 ],
 "metadata": {
  "kernelspec": {
   "display_name": "Python 3",
   "language": "python",
   "name": "python3"
  },
  "language_info": {
   "codemirror_mode": {
    "name": "ipython",
    "version": 3
   },
   "file_extension": ".py",
   "mimetype": "text/x-python",
   "name": "python",
   "nbconvert_exporter": "python",
   "pygments_lexer": "ipython3",
   "version": "3.8.0"
  }
 },
 "nbformat": 4,
 "nbformat_minor": 5
}
