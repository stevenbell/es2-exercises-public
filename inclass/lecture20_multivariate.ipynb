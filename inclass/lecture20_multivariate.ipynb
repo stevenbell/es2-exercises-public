{
 "cells": [
  {
   "cell_type": "markdown",
   "id": "1faaf61e",
   "metadata": {},
   "source": [
    "# Working with multivariate data\n",
    "So far, most of our work has been with single-variable data which can easily be plotted with a line chart or bar chart.  Here we'll look at some ways to manipulate and plot \"multivariate\" data, i.e., data sets which have multiple independent variables.\n",
    "\n",
    "\n",
    "## N-dimensional arrays\n",
    "As you may remember, NumPy was designed with multi-dimensional data in mind.  That's why the core NumPy type is called `ndarray` --- it's an N-dimensional array!\n",
    "\n",
    "We can create an 2-dimensional array manually just by using a list of lists:"
   ]
  },
  {
   "cell_type": "code",
   "execution_count": null,
   "id": "6570658d",
   "metadata": {},
   "outputs": [],
   "source": [
    "import numpy as np\n",
    "\n",
    "a = np.array([[10,  9, 10, 10, 12, 11,  9, 15, 13],\n",
    "              [ 2,  0,  4,  6, 12, 11, 14, 27, 24],\n",
    "              [ 5,  6, 10,  8, 14, 14, 18,  9, 19],\n",
    "              [23, 16, 11, 14,  7,  1,  2,  0, 25]])\n",
    "\n",
    "print(type(a))"
   ]
  },
  {
   "cell_type": "markdown",
   "id": "5f70b646",
   "metadata": {},
   "source": [
    "What do you get as the result of the following operations?  What are they doing?\n",
    "* `a.shape` (note that there are no parentheses)\n",
    "* `a.T` (no parentheses here either)\n",
    "* `len(a)`  (what about `len(a.T)`)?\n",
    "* `np.sum(a)`\n",
    "* `np.sum(a, axis=0)` (what about `axis=1`?)\n",
    "\n",
    "*Challenge*: \n",
    "* Create a 3-dimensional `ndarray`.\n",
    "* Which of the above operators work on your array?  Do they do anything differently?"
   ]
  },
  {
   "cell_type": "code",
   "execution_count": null,
   "id": "b6530d50",
   "metadata": {},
   "outputs": [],
   "source": [
    "# Your code here..."
   ]
  },
  {
   "cell_type": "markdown",
   "id": "ed887049",
   "metadata": {},
   "source": [
    "Just like a 1D NumPy array, we can slice the array to get individual rows or columns or chunks of the data.  Experiment with the following slices, and make some notes about how slicing works in multiple dimensions.\n",
    "\n",
    "* `a[0]`\n",
    "* `a[0, 3]`\n",
    "* `a[3, 0]`\n",
    "* `a[:, 2]`\n",
    "\n",
    "*Challenge*:\n",
    "* Create an array `b` which is a copy of `a` but with all values > 10 replaced with 10.\n",
    "* Do the above with two lines of code or fewer."
   ]
  },
  {
   "cell_type": "code",
   "execution_count": null,
   "id": "a58bc729",
   "metadata": {},
   "outputs": [],
   "source": [
    "# Your code here..."
   ]
  },
  {
   "cell_type": "markdown",
   "id": "3a19186d",
   "metadata": {},
   "source": [
    "## Multidimensional plots\n",
    "\n",
    "Since paper (and computer screens) are 2-dimensional, we have to get clever if we want to show more than one variable as a function of another.  There are lots of ways to do this, as discussed in class.  We'll do a couple examples here, and encourage you to check out the [Matplotlib examples gallery](https://matplotlib.org/stable/gallery/index.html) for inspiration as to what is possible.\n",
    "\n",
    "\n",
    "We can create multiple charts on one figure using `subplot()`:"
   ]
  },
  {
   "cell_type": "code",
   "execution_count": null,
   "id": "9a659386",
   "metadata": {},
   "outputs": [],
   "source": [
    "import matplotlib.pyplot as plt\n",
    "\n",
    "N = 4\n",
    "for i in range(N):\n",
    "    plt.subplot(N, 1, i+1)\n",
    "    plt.plot(a[i])\n",
    "plt.show()\n"
   ]
  },
  {
   "cell_type": "markdown",
   "id": "6eeda2e4",
   "metadata": {},
   "source": [
    "* Experiment with the parameters to `subplot()`.  What do they do?\n",
    "* How does your ability to draw comparisons change as you change the size and shape of the plots?\n",
    "\n",
    "*Challenge*:  Try drawing multiple bar charts instead of line charts."
   ]
  },
  {
   "cell_type": "markdown",
   "id": "24aee316",
   "metadata": {},
   "source": [
    "## Showing images\n",
    "\n",
    "If we have two-dimensional data, we can display it as an image (and if we have higher-dimensional data, we can always take 2D slices of it) using `imshow()`."
   ]
  },
  {
   "cell_type": "code",
   "execution_count": null,
   "id": "1703239d",
   "metadata": {},
   "outputs": [],
   "source": [
    "plt.imshow(a)\n",
    "plt.show()"
   ]
  },
  {
   "cell_type": "markdown",
   "id": "95e0de2c",
   "metadata": {},
   "source": [
    "The colors are pretty, but what is this showing?  Take a minute to figure out how this plot is generated and what it's telling you.\n",
    "\n",
    "\n",
    "The matplotlib documentation has a [whole page about colormaps](https://matplotlib.org/stable/tutorials/colors/colormaps.html).  There's also an excellent discussion of the development of the [default colormap, called \"viridis\"](http://bids.github.io/colormap/).\n",
    "\n",
    "And wait, [what's this](https://www.youtube.com/watch?v=QlwatKpla8s?t=48)?\n"
   ]
  }
 ],
 "metadata": {
  "kernelspec": {
   "display_name": "Python 3",
   "language": "python",
   "name": "python3"
  },
  "language_info": {
   "codemirror_mode": {
    "name": "ipython",
    "version": 3
   },
   "file_extension": ".py",
   "mimetype": "text/x-python",
   "name": "python",
   "nbconvert_exporter": "python",
   "pygments_lexer": "ipython3",
   "version": "3.8.0"
  }
 },
 "nbformat": 4,
 "nbformat_minor": 5
}
