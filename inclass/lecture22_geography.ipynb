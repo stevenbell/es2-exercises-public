{
 "cells": [
  {
   "cell_type": "markdown",
   "id": "e3d13aae",
   "metadata": {},
   "source": [
    "# Geography and more advanced plotting\n",
    "\n",
    "The solar project makes use of geographic data --- actual people and buildings located in physical space --- which suggests that part of our data analysis should involve visualizing spatial locations.\n",
    "\n",
    "Cartography and geospatial data analysis are **huge** topics, so we're just going to few basic things, and even the things we will do would make serious cartographers and GIS scientists cringe.  But hopefully it whets your appetite for geospatial data analysis and gives you a few more data visualization tools that are useful in other contexts.\n",
    "\n",
    "Let's start by loading up the raw solar data from Google:"
   ]
  },
  {
   "cell_type": "code",
   "execution_count": null,
   "id": "bd089029",
   "metadata": {},
   "outputs": [],
   "source": [
    "import pandas as pd\n",
    "\n",
    "solar = pd.read_csv(\"/cluster/tufts/class/es/2/data/project-sunroof-census_tract.csv\")"
   ]
  },
  {
   "cell_type": "markdown",
   "id": "6bf2f34a",
   "metadata": {},
   "source": [
    "Take a look at the data columns.  You can read the details in the [published metadata](https://storage.googleapis.com/project-sunroof/csv/latest/metadata.csv)."
   ]
  },
  {
   "cell_type": "code",
   "execution_count": null,
   "id": "86937f39",
   "metadata": {},
   "outputs": [],
   "source": [
    "print(solar.columns)"
   ]
  },
  {
   "cell_type": "markdown",
   "id": "958cdb8e",
   "metadata": {},
   "source": [
    "The `lat_...` and `lng_...` columns contain latitude and longitude values.\n",
    "Try making a scatterplot using the \"average\" coordiantes (`lat_avg` and `lng_avg`)."
   ]
  },
  {
   "cell_type": "code",
   "execution_count": null,
   "id": "c0f42dac",
   "metadata": {},
   "outputs": [],
   "source": [
    "import matplotlib.pyplot as plt\n",
    "plt.figure(figsize=(16, 12)) # Use this to make a big figure; you'll want it\n"
   ]
  },
  {
   "cell_type": "markdown",
   "id": "7bf96c3f",
   "metadata": {},
   "source": [
    "What do you notice?\n",
    "\n",
    "Try viewing just part of the data by setting the bounding box with `xlim()` and `ylim()`.  You can browse [OpenStreetMap](https://www.openstreetmap.org/) to figure out the coordinates for regions of interest.\n",
    "\n",
    "*Challenge*: Try drawing a rectangle (rather than a single point) for each region using the min/max coordinates."
   ]
  },
  {
   "cell_type": "markdown",
   "id": "854d46c8",
   "metadata": {},
   "source": [
    "## Opacity for dense data\n",
    "\n",
    "Sometimes when you have very dense datapoints, setting some transparency enables you to see the density of the data points.\n",
    "\n",
    "Add another parameter to your `scatter()` call: `alpha=1`.  Try changing the `1` to other values.  0 is fully transparent, 1 is fully opaque."
   ]
  },
  {
   "cell_type": "code",
   "execution_count": null,
   "id": "b8a174fa",
   "metadata": {},
   "outputs": [],
   "source": []
  },
  {
   "cell_type": "markdown",
   "id": "bbcc7d6f",
   "metadata": {},
   "source": [
    "## Data-dependant color\n",
    "\n",
    "Along with the X/Y coordinates, you can specify a color for each point using the `c` parameter.  Try making the color of the points dependant on the `percent_qualified` column.  What do you see?"
   ]
  },
  {
   "cell_type": "code",
   "execution_count": null,
   "id": "e75587d9",
   "metadata": {},
   "outputs": [],
   "source": []
  },
  {
   "cell_type": "markdown",
   "id": "56d293e1",
   "metadata": {},
   "source": [
    "## Adding demographic data"
   ]
  },
  {
   "cell_type": "code",
   "execution_count": null,
   "id": "792e61ef",
   "metadata": {},
   "outputs": [],
   "source": [
    "merged = pd.read_csv(\"/cluster/tufts/class/es/2/data/CensusSunroofMerged.csv\")"
   ]
  }
 ],
 "metadata": {
  "kernelspec": {
   "display_name": "Python 3",
   "language": "python",
   "name": "python3"
  },
  "language_info": {
   "codemirror_mode": {
    "name": "ipython",
    "version": 3
   },
   "file_extension": ".py",
   "mimetype": "text/x-python",
   "name": "python",
   "nbconvert_exporter": "python",
   "pygments_lexer": "ipython3",
   "version": "3.8.0"
  }
 },
 "nbformat": 4,
 "nbformat_minor": 5
}
