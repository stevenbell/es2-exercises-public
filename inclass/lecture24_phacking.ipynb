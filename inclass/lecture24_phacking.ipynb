{
 "cells": [
  {
   "cell_type": "markdown",
   "id": "53cec377",
   "metadata": {},
   "source": [
    "# P-hacking and confidence intervals\n",
    "\n",
    "Now that we have tools for simulating random events, let's investigate a couple ways this can be used and misused.  The first is called \"p-hacking\", where a scientific study is set up in a way that makes a \"statistically significant\" result more likely.\n",
    "\n",
    "Let's look at one example, inspired by this [XKCD comic](https://xkcd.com/882/).\n",
    "\n",
    "Write code to do the following:\n",
    "1. Generate two sets of normally-distributed random data with the same mean and variance.  The first is the *control* and the second is the *test* set.\n",
    "2. Use a T-test (`scipy.stats.ttest_ind()`) to calculate the probability that any variation between these two data sets could be explained by chance.\n",
    "3. If $p \\ge 0.05$, then print out a result like \"we found no link between purple jelly beans and acne (p = 0.791)\".  If $p < 0.05$, print out a result like \"green jelly beans linked acne! Only 5% chance of coincidence!\"\n",
    "\n",
    "Once you've got this working, write a `for` loop to run this experiment for all of the jelly bean colors.\n"
   ]
  },
  {
   "cell_type": "code",
   "execution_count": null,
   "id": "1a80abad",
   "metadata": {
    "tags": [
     "student"
    ]
   },
   "outputs": [],
   "source": [
    "import numpy as np\n",
    "from scipy import stats\n",
    "\n",
    "jellybean_colors = [\"purple\", \"brown\", \"pink\", \"blue\", \"teal\", \"salmon\", \"red\", \"turquoise\", \"magenta\", \"yellow\", \"grey\", \"tan\", \"cyan\", \"green\", \"mauve\", \"beige\", \"lilac\", \"black\", \"peach\", \"orange\"]\n",
    "\n",
    "# Your code here..."
   ]
  },
  {
   "cell_type": "markdown",
   "id": "41ea2ee6",
   "metadata": {},
   "source": [
    "*Challenge*:\n",
    "* Make some scatter plots showing the data, and annotate them with the corresponding means\n",
    "* What happens if you test some other things along with acne? (e.g., "
   ]
  },
  {
   "cell_type": "markdown",
   "id": "a36999b1",
   "metadata": {},
   "source": [
    "P-hacking can take many forms, nearly all of which are well-intentioned:\n",
    "* Collecting some data, finding that $p \\ge 0.05$, and then continuing to collect \n",
    "* Making various choices about data filtering\n",
    "* Recording lots of data and only using part of it\n",
    "\n",
    "[Why Most Published Research Findings are False (PLOS Medicine)](https://journals.plos.org/plosmedicine/article?id=10.1371/journal.pmed.0020124)"
   ]
  },
  {
   "cell_type": "markdown",
   "id": "1f61b73c",
   "metadata": {},
   "source": [
    "## Confidence intervals\n",
    "\n",
    "Let's start by generating a \"random walk\" --- imagine walking on a number line, taking steps back and forth at random and recording our path.\n"
   ]
  },
  {
   "cell_type": "code",
   "execution_count": null,
   "id": "ae217ede",
   "metadata": {},
   "outputs": [],
   "source": [
    "import matplotlib.pyplot as plt\n",
    "\n",
    "rng = np.random.default_rng()\n",
    "\n",
    "# Create a \"random walk\" starting at 0\n",
    "x = [0]\n",
    "\n",
    "for i in range(499):\n",
    "    # Take the previous location, and add a random number to it\n",
    "    x.append(x[-1] + rng.normal())\n",
    "\n",
    "plt.plot(range(500), x)\n",
    "plt.show()"
   ]
  },
  {
   "cell_type": "markdown",
   "id": "ad395f3b",
   "metadata": {},
   "source": [
    "Write code to create many random walks (say 100) and plot them all on the same graph.\n",
    "\n",
    "Can you calculate the 50% confidence interval from the data?  The 95% confidence interval?"
   ]
  },
  {
   "cell_type": "code",
   "execution_count": null,
   "id": "5bc86c35",
   "metadata": {
    "tags": [
     "student"
    ]
   },
   "outputs": [],
   "source": [
    "# Create 1000 random walks\n",
    "# Your code here..."
   ]
  }
 ],
 "metadata": {
  "kernelspec": {
   "display_name": "Python 3",
   "language": "python",
   "name": "python3"
  },
  "language_info": {
   "codemirror_mode": {
    "name": "ipython",
    "version": 3
   },
   "file_extension": ".py",
   "mimetype": "text/x-python",
   "name": "python",
   "nbconvert_exporter": "python",
   "pygments_lexer": "ipython3",
   "version": "3.8.0"
  }
 },
 "nbformat": 4,
 "nbformat_minor": 5
}
