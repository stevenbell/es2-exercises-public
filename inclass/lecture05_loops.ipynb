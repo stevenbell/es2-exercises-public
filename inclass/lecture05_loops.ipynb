{
 "cells": [
  {
   "cell_type": "markdown",
   "id": "13e75b03",
   "metadata": {},
   "source": [
    "# Loops\n",
    "\n",
    "So far, our programs have run in a single linear sequence, from top to bottom.\n",
    "Today, we'll explore *loops*, which let us do something many times.\n"
   ]
  },
  {
   "cell_type": "markdown",
   "id": "faa73c83",
   "metadata": {},
   "source": [
    "## `for` loops\n",
    "The first kind of loop is called a `for` loop:"
   ]
  },
  {
   "cell_type": "code",
   "execution_count": null,
   "id": "095e61cd",
   "metadata": {},
   "outputs": [],
   "source": [
    "for i in range(3):\n",
    "    print(\"this is the message...\")\n",
    "print(\"goodbye!\")"
   ]
  },
  {
   "cell_type": "markdown",
   "id": "10149cc6",
   "metadata": {},
   "source": [
    "Experiment with this code.\n",
    "* What if you change 3 to another number?\n",
    "* What happens if you change `i` to something else?\n",
    "* What happens if you remove the words `for` or `in` or `range`?\n",
    "* What happens if you indent the third line (`print(\"goodbye!\")`) by 4 spaces?\n",
    "* What if you un-indent the second line?\n",
    "\n",
    "*Challenge*:\n",
    "* What if you indent by 1 space instead of 4?\n",
    "* What happens if you pass a negative number to `range`?\n",
    "* What happens if you replace `range(3)` with `\"hello\"`?  Why?"
   ]
  },
  {
   "cell_type": "markdown",
   "id": "5018a0f3",
   "metadata": {},
   "source": [
    "## Iteration variable\n",
    "\n",
    "The code `for i in ...` creates a new variable called `i`.  We can do things with this variable:"
   ]
  },
  {
   "cell_type": "code",
   "execution_count": null,
   "id": "5516fccd",
   "metadata": {},
   "outputs": [],
   "source": [
    "for i in range(3):\n",
    "    print(\"Hello {}\".format(i))"
   ]
  },
  {
   "cell_type": "markdown",
   "id": "edc0ce7c",
   "metadata": {},
   "source": [
    "Experiment with this code.\n",
    "* What happens if you rename `i` to something else?\n",
    "* What value is `i` after the loop is finished? (Why isn't it 3?)\n",
    "\n",
    "*Challenge*:\n",
    "* What happens with `i` when you replace `range(3)` with `\"hello\"`?  What do you think is happening?\n",
    "* What happens if you replace `range(3)` with `[\"one\", \"two\", \"three\"]`?"
   ]
  },
  {
   "cell_type": "markdown",
   "id": "7fdd7cf5",
   "metadata": {},
   "source": [
    "## Other ranges\n",
    "`range` can accept more than one number.  What do these examples do?\n",
    "\n",
    "* `range(1, 5)`\n",
    "* `range(1, 100, 10)`\n"
   ]
  },
  {
   "cell_type": "code",
   "execution_count": null,
   "id": "4c5d38f8",
   "metadata": {},
   "outputs": [],
   "source": [
    "# Experiment here"
   ]
  },
  {
   "cell_type": "markdown",
   "id": "8848f28a",
   "metadata": {},
   "source": [
    "## Predict the result\n",
    "What will the be the result for each of these code examples?"
   ]
  },
  {
   "cell_type": "code",
   "execution_count": null,
   "id": "384c8a7a",
   "metadata": {},
   "outputs": [],
   "source": [
    "x = 0\n",
    "\n",
    "for i in range(10):\n",
    "    x = x + i\n",
    "\n",
    "print(x)"
   ]
  },
  {
   "cell_type": "code",
   "execution_count": null,
   "id": "6787e7aa",
   "metadata": {},
   "outputs": [],
   "source": [
    "letters = [\"a\", \"b\", \"c\", \"d\", \"e\"]\n",
    "\n",
    "for i in range(1, len(letters)):\n",
    "    print(letters[i])\n"
   ]
  },
  {
   "cell_type": "markdown",
   "id": "219d0649",
   "metadata": {},
   "source": [
    "*Challenge*:\n",
    "* See if you can rewrite the `letters` example above without using `range`.  (This isn't a good idea in practice, but it'll stretch your programming muscles a little bit.)"
   ]
  },
  {
   "cell_type": "markdown",
   "id": "287e94df",
   "metadata": {},
   "source": [
    "## Loops and lists\n",
    "\n",
    "We can build a list in a loop:"
   ]
  },
  {
   "cell_type": "code",
   "execution_count": null,
   "id": "7d316f38",
   "metadata": {},
   "outputs": [],
   "source": [
    "numbers = []\n",
    "\n",
    "for i in range(10):\n",
    "    numbers.append(0)\n",
    "\n",
    "print(numbers)"
   ]
  },
  {
   "cell_type": "markdown",
   "id": "54cd3705",
   "metadata": {},
   "source": [
    "What happens if you move the `numbers = []` line into the loop?\n",
    "\n",
    "\n",
    "Below, write code to create a list containing the numbers 0 through 10 (inclusive)."
   ]
  },
  {
   "cell_type": "code",
   "execution_count": null,
   "id": "513a2c20",
   "metadata": {},
   "outputs": [],
   "source": [
    "numbers = []\n",
    "\n",
    "# Your code here...\n",
    "\n",
    "print(numbers) # Should print [0, 1, 2, 3, 4, 5, 6, 7, 8, 9, 10]"
   ]
  }
 ],
 "metadata": {
  "kernelspec": {
   "display_name": "Python 3",
   "language": "python",
   "name": "python3"
  },
  "language_info": {
   "codemirror_mode": {
    "name": "ipython",
    "version": 3
   },
   "file_extension": ".py",
   "mimetype": "text/x-python",
   "name": "python",
   "nbconvert_exporter": "python",
   "pygments_lexer": "ipython3",
   "version": "3.8.0"
  }
 },
 "nbformat": 4,
 "nbformat_minor": 5
}
