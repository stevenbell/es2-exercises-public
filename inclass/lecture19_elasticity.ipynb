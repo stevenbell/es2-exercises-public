{
 "cells": [
  {
   "cell_type": "markdown",
   "id": "5678be0f",
   "metadata": {},
   "source": [
    "# Elasticity of demand\n",
    "\n",
    "In our previous modeling, we assumed that we could adjust fares arbitrarily and people would still ride.  This is obviously not the case: if fares increase, fewer people will ride.\n",
    "\n",
    "We can model this using the concept of \"elasticity of demand\": The percentage change in a good's consumption caused by each one-percent change in its price:\n",
    "$$E = \\frac{\\mathrm{\\%~change~in~ridership}}{\\mathrm{\\%~change~in~fare}}$$\n",
    "\n",
    "If we write out the percentage changes as fractions of the new and old ridership, we get:\n",
    "$$E=\\frac{\\frac{ F_{new}-F_{old} }{F_{old}} }{\\frac{ R_{new}-R_{old} }{R_{old}}}$$\n",
    "\n",
    "And solving this for the new ridership results in:\n",
    "$$R_{new} = E \\frac{F_{new} - F_{old}}{F_{old}}R_{old} + R_{old}$$"
   ]
  },
  {
   "cell_type": "markdown",
   "id": "a25560ce",
   "metadata": {},
   "source": [
    "Let's try an example, assuming the following:\n",
    "* Currently 100,000,000 bus trips per year (current ridership)\n",
    "* Current fare is $1.70\n",
    "* Elasticity is -0.25\n",
    "\n",
    "Create a plot that shows the **increase (or decrease) in revenue** for a **range of fares**.\n",
    "You might start by writing code for a single fare increase, and then generalize it.\n",
    "\n",
    "Is increasing fares a good way to increase revenue?\n",
    "\n",
    "*Challenge*:\n",
    "* Is there a point at which increasing fares actually decreases revenue?  If so, what do you think about the accuracy of the model at that point?\n",
    "* Try some numbers for the commuter rail instead of the bus.  Do you think it has lower or higher elasticity?"
   ]
  },
  {
   "cell_type": "code",
   "execution_count": null,
   "id": "ad314482",
   "metadata": {
    "tags": [
     "student"
    ]
   },
   "outputs": [],
   "source": [
    "# Your code here..."
   ]
  }
 ],
 "metadata": {
  "kernelspec": {
   "display_name": "Python 3",
   "language": "python",
   "name": "python3"
  },
  "language_info": {
   "codemirror_mode": {
    "name": "ipython",
    "version": 3
   },
   "file_extension": ".py",
   "mimetype": "text/x-python",
   "name": "python",
   "nbconvert_exporter": "python",
   "pygments_lexer": "ipython3",
   "version": "3.8.0"
  }
 },
 "nbformat": 4,
 "nbformat_minor": 5
}
