{
 "cells": [
  {
   "cell_type": "markdown",
   "id": "42c68a10",
   "metadata": {},
   "source": [
    "# `while` loops\n",
    "\n",
    "`for` loops are great, but sometimes we want to do something while a condition is true, not a fixed number of times.  This is the purpose of a `while` loop."
   ]
  },
  {
   "cell_type": "code",
   "execution_count": null,
   "id": "8e18dd18",
   "metadata": {},
   "outputs": [],
   "source": [
    "p = 1\n",
    "while p < 1000:\n",
    "    print(p)\n",
    "    p = p * 2"
   ]
  },
  {
   "cell_type": "markdown",
   "id": "6aab8fb2",
   "metadata": {},
   "source": [
    "Write a bit of code that prints the items in the list `numbers` until it reaches the value `0`.  The `0` and the following values should not be printed."
   ]
  },
  {
   "cell_type": "code",
   "execution_count": null,
   "id": "b7845f41",
   "metadata": {},
   "outputs": [],
   "source": [
    "numbers = [8, 7, 5, 3, 2, 0, -1, -6, 1, -3]"
   ]
  },
  {
   "cell_type": "markdown",
   "id": "16bf5a75",
   "metadata": {},
   "source": [
    "*Challenge*:\n",
    "* What if there isn't a `0` in the list?  Modify your code so it doesn't throw an exception.\n",
    "* Modify your code so it prints until it encounters a non-decreasing number (i.e., the number is >= the one before it.) "
   ]
  },
  {
   "cell_type": "markdown",
   "id": "b8cfeb6e",
   "metadata": {},
   "source": [
    "# Quitting early with `break`\n",
    "\n",
    "Sometimes you want to quit a loop as soon as something happens, but writing the loop condition is difficult.  The `break` keyword lets you \"force-quit\" a loop.  It is almost always used inside an `if` statement."
   ]
  },
  {
   "cell_type": "code",
   "execution_count": null,
   "id": "400a0f39",
   "metadata": {},
   "outputs": [],
   "source": [
    "for i in range(20):\n",
    "    print(i)\n",
    "    if i == 6:\n",
    "        break"
   ]
  },
  {
   "cell_type": "code",
   "execution_count": null,
   "id": "fec4d37c",
   "metadata": {},
   "outputs": [],
   "source": [
    "n = 1\n",
    "while True:\n",
    "    n = n*(n + 1)\n",
    "    print(n)\n",
    "    if n > 100:\n",
    "        break"
   ]
  },
  {
   "cell_type": "markdown",
   "id": "81333336",
   "metadata": {},
   "source": [
    "Write code to make every string in the list `fruit` uppercase (`apple` becomes `APPLE`).  If an item isn't a string, then stop.  The function `upper()` will be very useful here."
   ]
  },
  {
   "cell_type": "code",
   "execution_count": null,
   "id": "4e21b13c",
   "metadata": {},
   "outputs": [],
   "source": [
    "fruit = [\"apple\", \"banana\", \"cherry\", \"durian\", None, None, \"grape\"]\n",
    "\n",
    "print(fruit[0].upper()) # Example of how to use upper(); replace this with your code\n",
    "\n",
    "print(fruit)"
   ]
  },
  {
   "cell_type": "markdown",
   "id": "4e0d21f5",
   "metadata": {},
   "source": [
    "*Challenge*:\n",
    "* Only capitalize the first letter in every word, e.g., `Apple`.\n",
    "* Do this without using a `break` statement."
   ]
  },
  {
   "cell_type": "markdown",
   "id": "cee48837",
   "metadata": {},
   "source": [
    "# Algorithm practice\n",
    "\n",
    "Before you write any code for these, figure out how you will solve the problem,\n",
    "and write some comments explaining your process.\n",
    "\n",
    "**1)** Write code to print the prime factors of a number.  If the number is prime, just print the number."
   ]
  },
  {
   "cell_type": "code",
   "execution_count": null,
   "id": "8ec56e0d",
   "metadata": {},
   "outputs": [],
   "source": [
    "x = 2022"
   ]
  },
  {
   "cell_type": "markdown",
   "id": "a233a165",
   "metadata": {},
   "source": [
    "*Challenge*:\n",
    "* Find the closest year to today which is a prime number.\n",
    "* Find the closest year to today which is prime *and* a palindromic number. ([None of us will live that long](https://oeis.org/A002385).)"
   ]
  },
  {
   "cell_type": "markdown",
   "id": "e02614a6",
   "metadata": {},
   "source": [
    "**2)** Write code to find the zero-crossings in the graph of `y`:"
   ]
  },
  {
   "cell_type": "code",
   "execution_count": null,
   "id": "5b7f7772",
   "metadata": {},
   "outputs": [],
   "source": [
    "import matplotlib.pyplot as plt\n",
    "\n",
    "# The line below is a Jupyter \"magic command\" (not Python code)\n",
    "# It tells matplotlib to use cool interactive controls, so you can zoom and pan around the plot\n",
    "%matplotlib notebook\n",
    "\n",
    "y = [-19.5, -13.6, -8.3, -3.6, 0.5, 4.1, 7.1, 9.7, 11.9, 13.6, 14.9, 15.8, 16.4, 16.7, 16.6, 16.3, 15.7, 14.9, 13.9, 12.8, 11.5, 10.0, 8.5, 6.9, 5.3, 3.7, 2.1, 0.5, -1.0, -2.5, -3.8, -4.9, -5.9, -6.7, -7.3, -7.6, -7.7, -7.4, -6.8, -5.9, -4.6, -2.9, -0.7, 1.9, 4.9, 8.5, 12.6, 17.3, 22.6, 28.5]\n",
    "plt.plot(y)\n",
    "plt.show()\n",
    "\n",
    "# Your code here -- print out the coordinates where the graph crosses the X-axis.\n"
   ]
  },
  {
   "cell_type": "markdown",
   "id": "8ba8e7b3",
   "metadata": {},
   "source": [
    "*Challenge*:\n",
    "* Annotate the plot to show the zero crossings.  Add a horizontal line at 0, and add red crosses at the zero crossing points.\n",
    "* The zero crossing generally occurs in between points, so you actually need to interpolate between them to get the best estimate.  Write code to do this.\n",
    "* Write code to find the local maxima and minima of the function.  You can decide if you want to handle the endpoints or not."
   ]
  }
 ],
 "metadata": {
  "kernelspec": {
   "display_name": "Python 3",
   "language": "python",
   "name": "python3"
  },
  "language_info": {
   "codemirror_mode": {
    "name": "ipython",
    "version": 3
   },
   "file_extension": ".py",
   "mimetype": "text/x-python",
   "name": "python",
   "nbconvert_exporter": "python",
   "pygments_lexer": "ipython3",
   "version": "3.8.0"
  }
 },
 "nbformat": 4,
 "nbformat_minor": 5
}
