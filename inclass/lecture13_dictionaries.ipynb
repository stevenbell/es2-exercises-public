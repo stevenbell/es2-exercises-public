{
 "cells": [
  {
   "cell_type": "markdown",
   "id": "23a9052c",
   "metadata": {},
   "source": [
    "# Dictionaries\n",
    "\n",
    "Lists are good for storing sequences of values, but sometimes your data isn't a sequence.  Suppose you want to store the [ISO country codes](https://en.wikipedia.org/wiki/ISO_3166-1#Current_codes) along with the full name of each country:\n",
    "\n",
    "<table>\n",
    "    <tr><th>Code</th><th>Full name</th></tr>\n",
    "    <tr><td>FR</td><td>France</td></tr>\n",
    "    <tr><td>CO</td><td>Colombia</td></tr>\n",
    "    <tr><td>AU</td><td>Australia</td></tr>\n",
    "    <tr><td>CA</td><td>Canada</td></tr>\n",
    "</table>\n",
    "\n",
    "You could do this by using a couple of lists, but looking up values would get tedious.  Instead, Python provides *dictionaries*, which let us create unsorted mappings between data values."
   ]
  },
  {
   "cell_type": "markdown",
   "id": "09c12203",
   "metadata": {},
   "source": [
    "Creating a dictionary requires a little bit of new syntax:\n",
    "\n",
    "    NEW_DICTIONARY = { KEY1 : VALUE1, KEY2 : VALUE2 ...}"
   ]
  },
  {
   "cell_type": "code",
   "execution_count": 2,
   "id": "a2d67578",
   "metadata": {},
   "outputs": [
    {
     "name": "stdout",
     "output_type": "stream",
     "text": [
      "{'pencils': 30, 'rulers': 5, 'calculators': 0}\n",
      "<class 'dict'>\n"
     ]
    }
   ],
   "source": [
    "inventory = {\"pencils\":30, \"rulers\":5, \"calculators\":0}\n",
    "\n",
    "print(inventory)\n",
    "print(type(inventory))"
   ]
  },
  {
   "cell_type": "markdown",
   "id": "0e73241e",
   "metadata": {},
   "source": [
    "## Experiment\n",
    "\n",
    "* Create a new dictionary mapping country codes to full names.\n",
    "* What happens if you have two keys that are the same?\n",
    "* Can you use types besides `str` for the keys?\n",
    "\n",
    "*Challenge*: Can you use a list inside a dictionary?  Can you use a list as a key?  What about a function?"
   ]
  },
  {
   "cell_type": "markdown",
   "id": "b11e18b5",
   "metadata": {},
   "source": [
    "Once we have a dictionary, we can access particular elements by indexing with the *key*:"
   ]
  },
  {
   "cell_type": "code",
   "execution_count": 3,
   "id": "12db9ced",
   "metadata": {
    "scrolled": true
   },
   "outputs": [
    {
     "name": "stdout",
     "output_type": "stream",
     "text": [
      "30\n"
     ]
    }
   ],
   "source": [
    "num_pencils = inventory[\"pencils\"]\n",
    "print(num_pencils)"
   ]
  },
  {
   "cell_type": "markdown",
   "id": "125c8342",
   "metadata": {},
   "source": [
    "Just like with lists, we can also assign to the values we've looked up:"
   ]
  },
  {
   "cell_type": "code",
   "execution_count": 11,
   "id": "ec2db4bd",
   "metadata": {},
   "outputs": [
    {
     "name": "stdout",
     "output_type": "stream",
     "text": [
      "{'pencils': 30, 'rulers': 12, 'calculators': 0}\n"
     ]
    }
   ],
   "source": [
    "inventory[\"rulers\"] = 12\n",
    "print(inventory)"
   ]
  },
  {
   "cell_type": "markdown",
   "id": "69e4aa97",
   "metadata": {},
   "source": [
    "## Experiment\n",
    "\n",
    "* What happens if you try try to read an index with a key that isn't in the dictionary?\n",
    "* What happens if you try try to *write* an index with a key that isn't in the dictionary?\n",
    "\n",
    "\n",
    "*Challenge*:\n",
    "* Are dictionaries like lists, where assignments just make another reference to a single dictionary object, instead of creating an independent copy?\n",
    "* Can you add a dictionary to itself?  What happens?  Draw a diagram to explain what's happening."
   ]
  },
  {
   "cell_type": "markdown",
   "id": "d67c0a18",
   "metadata": {},
   "source": [
    "## Dictionary operators\n",
    "\n",
    "Just like lists, there are a handful of functions that operate on dictionaries.  Experiment and figure out what each of these do:\n",
    "* `len()`\n",
    "* `keys()`\n",
    "* `in` (e.g., `\"pencils\" in inventory`)\n",
    "\n",
    "*Challenge*: What about these functions?\n",
    "* `pop()`\n",
    "* `values()` (Does this return what you'd expect?  Why or why not?)"
   ]
  },
  {
   "cell_type": "markdown",
   "id": "796b67be",
   "metadata": {},
   "source": [
    "# JSON\n",
    "\n",
    "**[JSON](https://www.json.org/json-en.html)** is a data format that is easy for software to read and write, and which is also human readable.  Although JSON was originally created with Javascript in mind (JSON actually stands for \"JavaScript Object Notation\"), it is supported by practically every modern programming language.  Python support for JSON is included in the built-in `json` library.\n",
    "\n",
    "\n",
    "Here's an example JSON file for the inventory example above:\n",
    "``` json\n",
    "{\n",
    "  \"pencils\":30,\n",
    "  \"rulers\":5,\n",
    "  \"calculators\":0\n",
    "}\n",
    "````\n",
    "\n",
    "You might notice that this JSON example looks suspiciously similar to a Python dictionary, and you're right.  JSON objects can be easily loaded into Python, and the results become Python dictionaries:"
   ]
  },
  {
   "cell_type": "code",
   "execution_count": 13,
   "id": "218d78a0",
   "metadata": {},
   "outputs": [
    {
     "name": "stdout",
     "output_type": "stream",
     "text": [
      "{'FR': 'France', 'CO': 'Colombia', 'AU': 'Australia', 'CA': 'Canada'}\n"
     ]
    },
    {
     "data": {
      "text/plain": [
       "dict"
      ]
     },
     "execution_count": 13,
     "metadata": {},
     "output_type": "execute_result"
    }
   ],
   "source": [
    "import json\n",
    "\n",
    "jsonfile = open(\"countries.json\")\n",
    "blob = json.load(jsonfile)\n",
    "\n",
    "print(blob)\n",
    "type(blob)"
   ]
  },
  {
   "cell_type": "markdown",
   "id": "ecea4458",
   "metadata": {},
   "source": [
    "## Some real JSON data\n",
    "\n",
    "Here is the current weather forecast from the National Weather Service, formatted as JSON: https://api.weather.gov/gridpoints/BOX/68,78/forecast\n",
    "\n",
    "The code below pulls this into Python, and lets you manipulate the data programmatically:"
   ]
  },
  {
   "cell_type": "code",
   "execution_count": null,
   "id": "4895d8b5",
   "metadata": {},
   "outputs": [],
   "source": [
    "# Just run this cell once, and then experiment in the cell below\n",
    "# The NWS is providing this as a free service, we don't want to abuse their servers by\n",
    "# downloading the same data repeatedly!\n",
    "\n",
    "import requests # Library for downloading data from the internet\n",
    "result = requests.get(\"https://api.weather.gov/gridpoints/BOX/68,78/forecast\")\n",
    "blob = result.json()"
   ]
  },
  {
   "cell_type": "code",
   "execution_count": 16,
   "id": "ddda6754",
   "metadata": {},
   "outputs": [
    {
     "name": "stdout",
     "output_type": "stream",
     "text": [
      "<class 'dict'>\n"
     ]
    }
   ],
   "source": [
    "print(type(blob))"
   ]
  },
  {
   "cell_type": "markdown",
   "id": "26fd53fc",
   "metadata": {},
   "source": [
    "## Experiment\n",
    "What information is contained in the \n",
    "Can you print out today's forecast?\n",
    "\n",
    "\n",
    "*Challenge*: You can get an hourly forecast here: https://api.weather.gov/gridpoints/BOX/68,78/forecast/hourly\n",
    "\n",
    "Make a plot of the forecasted temperature for the next ten days."
   ]
  },
  {
   "cell_type": "markdown",
   "id": "2f6da3f0",
   "metadata": {},
   "source": [
    "\n",
    "\n",
    "### Extra challenge:\n",
    "It turns out that Jupyter notebook files (`.ipynb`) are just JSON files --- human-readable and easy to manipulate with Python.\n",
    "1. Open up a notebook as a plain text file.  You may find it helpful to make a copy and give it a `.json` extension.  How is the notebook organized?\n",
    "2. Load the Jupyter notebook into Python as a JSON blob, and see if you can extract the contents of some cells.\n",
    "3. Write some code that extracts all of the code from the notebook cells and writes it into a plain text file.  If you've done it right, you should be able to execute the resulting file as a standalone Python program (e.g., run `python mycode.py`).\n",
    "4. If you open up one of the skill builders, you'll see some cells with a \"tag\" labeled \"student\".  These are what the autograder (which, surprise, is written in Python) is looking for to figure out where your code is."
   ]
  }
 ],
 "metadata": {
  "kernelspec": {
   "display_name": "Python 3",
   "language": "python",
   "name": "python3"
  },
  "language_info": {
   "codemirror_mode": {
    "name": "ipython",
    "version": 3
   },
   "file_extension": ".py",
   "mimetype": "text/x-python",
   "name": "python",
   "nbconvert_exporter": "python",
   "pygments_lexer": "ipython3",
   "version": "3.8.0"
  }
 },
 "nbformat": 4,
 "nbformat_minor": 5
}
