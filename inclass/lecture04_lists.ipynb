{
 "cells": [
  {
   "cell_type": "markdown",
   "id": "d70bec0e",
   "metadata": {},
   "source": [
    "# Python Lists\n",
    "\n",
    "Storing every individual value in a variable gets tedious pretty quickly.  Eventually we'll want to store dozens (or millions) of values and manipulate them with Python.\n",
    "\n",
    "One way to do this is with a Python `list`.  Creating a list is easy: just put a sequence of items in square brackets, separated by commas."
   ]
  },
  {
   "cell_type": "code",
   "execution_count": null,
   "id": "664fb32b",
   "metadata": {},
   "outputs": [],
   "source": [
    "mylist = [2, 4, 6]\n",
    "print(mylist)"
   ]
  },
  {
   "cell_type": "markdown",
   "id": "d9ad5227",
   "metadata": {},
   "source": [
    "* What type is `mylist`?\n",
    "* What is the result of `len(mylist)`?  What do you think this does?  Try changing the contents of the list and see what values it gives you.\n",
    "* What happens if you don't put anything between the square brackets?\n",
    "\n",
    "*Challenge:*\n",
    "* What operators work on lists?  What happens if you add two lists?  Can you add an integer to a list?  Multiply an integer by a list?\n",
    "* Can you make a list of lists?  What does `len()` return now?\n",
    "* What happens if you compare two lists with `>` or `<`?  How does Python decide which list is greater?"
   ]
  },
  {
   "cell_type": "markdown",
   "id": "9d1b197d",
   "metadata": {},
   "source": [
    "## Adding items to a list\n",
    "\n",
    "The `append()` method adds an item to the end of a list:"
   ]
  },
  {
   "cell_type": "code",
   "execution_count": null,
   "id": "cace0685",
   "metadata": {},
   "outputs": [],
   "source": [
    "bugs = [\"ant\", \"grashopper\", \"water strider\"]\n",
    "print(bugs)\n",
    "\n",
    "bugs.append(\"bumblebee\")\n",
    "print(bugs)"
   ]
  },
  {
   "cell_type": "markdown",
   "id": "390c9517",
   "metadata": {},
   "source": [
    "Try appending some things to a list.\n",
    "* Can you append items of different types?\n",
    "* What happens if you append a list to another list?\n",
    "\n",
    "*Challenge:*\n",
    "* Can you append a list to itself?  What happens?"
   ]
  },
  {
   "cell_type": "markdown",
   "id": "bee32c80",
   "metadata": {},
   "source": [
    "## Indexing lists\n",
    "To get a particular item out of a list, we can use square brackets after the name of the list.  This is called *indexing*."
   ]
  },
  {
   "cell_type": "code",
   "execution_count": null,
   "id": "2de24c4c",
   "metadata": {},
   "outputs": [],
   "source": [
    "primes = [3, 5, 7, 11, 13]\n",
    "print(primes[2])"
   ]
  },
  {
   "cell_type": "markdown",
   "id": "2864c276",
   "metadata": {},
   "source": [
    "Play around with the values in the list and the index.\n",
    "* What index number do you have to use to get the first item in the list?\n",
    "* What happens if you ask for an index that doesn't exist?\n",
    "* Suppose you had a list of unknown length, and you wanted to retrieve the last item.  How could you calculate the index of the last item?\n",
    "\n",
    "*Challenge:*\n",
    "* What happens if you index with a negative number?\n"
   ]
  },
  {
   "cell_type": "markdown",
   "id": "b9530cf7",
   "metadata": {},
   "source": [
    "## Analyzing code\n",
    "Read this code carefully and predict what it will print out.  Then try it!"
   ]
  },
  {
   "cell_type": "code",
   "execution_count": null,
   "id": "fd53855d",
   "metadata": {},
   "outputs": [],
   "source": [
    "favorite_numbers = [0, 1]\n",
    "favorite_numbers.append(2.71828)\n",
    "favorite_numbers.append(3.14159)\n",
    "favorite_numbers.append(\"j\") # What the math people call \"i\"...\n",
    "\n",
    "print(len(favorite_numbers))\n",
    "print(favorite_numbers[4])"
   ]
  },
  {
   "cell_type": "markdown",
   "id": "a41d5057",
   "metadata": {},
   "source": [
    "What about this?"
   ]
  },
  {
   "cell_type": "code",
   "execution_count": null,
   "id": "248e60c0",
   "metadata": {},
   "outputs": [],
   "source": [
    "repetitive = [\"Pete\", \"repeat\"]\n",
    "repetitive.append(repetitive[1])\n",
    "repetitive.append(repetitive[1])\n",
    "repetitive.append(repetitive[1])\n",
    "print(repetitive)"
   ]
  },
  {
   "cell_type": "markdown",
   "id": "bdbce181",
   "metadata": {},
   "source": [
    "This one's a trick... play around with the index if you're not sure what's going on."
   ]
  },
  {
   "cell_type": "code",
   "execution_count": null,
   "id": "ece7dec3",
   "metadata": {},
   "outputs": [],
   "source": [
    "languages = [\"German, Turkish, Spanish, Arabic\"]\n",
    "print(languages[1])"
   ]
  },
  {
   "cell_type": "markdown",
   "id": "2d7e54b9",
   "metadata": {},
   "source": [
    "*Challenge:* Try to explain in detail *why* this does what it does.  Is there consistent logic behind this behavior?"
   ]
  },
  {
   "cell_type": "code",
   "execution_count": null,
   "id": "613c09ed",
   "metadata": {},
   "outputs": [],
   "source": [
    "r = [1, 2, 3]\n",
    "r.append(r)\n",
    "r[3] = [] # Is this the same as r = []?  Why or why not?\n",
    "print(r)"
   ]
  },
  {
   "cell_type": "markdown",
   "id": "b873adbd",
   "metadata": {},
   "source": [
    "## Copying lists\n",
    "\n",
    "What do you think will happen when you run the following code?"
   ]
  },
  {
   "cell_type": "code",
   "execution_count": null,
   "id": "7b7a017b",
   "metadata": {},
   "outputs": [],
   "source": [
    "mammals = [\"bear\", \"squirrel\"]\n",
    "animals = mammals\n",
    "animals.append(\"whale\")\n",
    "\n",
    "print(animals)\n",
    "print(mammals)"
   ]
  },
  {
   "cell_type": "markdown",
   "id": "e4785d6c",
   "metadata": {},
   "source": [
    "Whoa.  Try it in [Python Tutor](https://pythontutor.com/visualize.html#code=mammals%20%3D%20%5B%22bear%22,%20%22squirrel%22%5D%0Aanimals%20%3D%20mammals%0Aanimals.append%28%22whale%22%29%0A%0Aprint%28animals%29%0Aprint%28mammals%29&cumulative=false&curInstr=0&heapPrimitives=nevernest&mode=display&origin=opt-frontend.js&py=3&rawInputLstJSON=%5B%5D&textReferences=false).\n",
    "\n",
    "What about this code?  First, see if you can spot the difference.  Then run it, and try this [updated code in Python Tutor](https://pythontutor.com/visualize.html#code=mammals%20%3D%20%5B%22bear%22,%20%22squirrel%22%5D%0Aanimals%20%3D%20list%28mammals%29%0Aanimals.append%28%22whale%22%29%0A%0Aprint%28animals%29%0Aprint%28mammals%29&cumulative=false&curInstr=0&heapPrimitives=nevernest&mode=display&origin=opt-frontend.js&py=3&rawInputLstJSON=%5B%5D&textReferences=false)."
   ]
  },
  {
   "cell_type": "code",
   "execution_count": null,
   "id": "c579e4ba",
   "metadata": {},
   "outputs": [],
   "source": [
    "mammals = [\"bear\", \"squirrel\"]\n",
    "animals = list(mammals)\n",
    "animals.append(\"whale\")\n",
    "\n",
    "print(animals)\n",
    "print(mammals)"
   ]
  }
 ],
 "metadata": {
  "kernelspec": {
   "display_name": "Python 3",
   "language": "python",
   "name": "python3"
  },
  "language_info": {
   "codemirror_mode": {
    "name": "ipython",
    "version": 3
   },
   "file_extension": ".py",
   "mimetype": "text/x-python",
   "name": "python",
   "nbconvert_exporter": "python",
   "pygments_lexer": "ipython3",
   "version": "3.8.0"
  }
 },
 "nbformat": 4,
 "nbformat_minor": 5
}
