{
 "cells": [
  {
   "cell_type": "markdown",
   "id": "419fb8e8",
   "metadata": {},
   "source": [
    "# Summary statistics (and the lies they tell)\n",
    "\n",
    "It's hard to mentally analyze (let alone communicate) large groups of numbers, so we often summarize them mathematically.  You're probably already familiar with concepts of mean (average) and median of a set of numbers; these are two \"summary statistics\" which summarize a collection of numbers with a single value.\n",
    "\n",
    "Computing these with NumPy is easy, using the appropriately-named functions `mean()` and `median()`."
   ]
  },
  {
   "cell_type": "code",
   "execution_count": null,
   "id": "cec77eb0",
   "metadata": {},
   "outputs": [],
   "source": [
    "import numpy as np\n",
    "x = np.array([1, 2, 5, 7, 20])\n",
    "\n",
    "mean = np.mean(x)\n",
    "median = np.median(x)\n",
    "\n",
    "print(\"Mean: {}\".format(mean))\n",
    "print(\"Median: {}\".format(median))"
   ]
  },
  {
   "cell_type": "markdown",
   "id": "1191e654",
   "metadata": {},
   "source": [
    "Standard deviation can be a little trickier.  Intuitively, the standard deviation measures how close the data is to the mean.  A low standard deviation means that most of the data points are clustered around the mean, while a large standard deviation means that the values are more spread out.\n",
    "\n",
    "Mathematically, we:\n",
    "* compute the distance of each value from the mean\n",
    "* square these values (this gets rid of negative values and has nicer mathematical properties than square root)\n",
    "* average the squared values together\n",
    "* take the sqare root of the average.\n",
    "\n",
    "The NumPy function `std()` computes the standard deviation:"
   ]
  },
  {
   "cell_type": "code",
   "execution_count": null,
   "id": "53c2a484",
   "metadata": {},
   "outputs": [],
   "source": [
    "x = np.array([1, 2, 5, 7, 20])\n",
    "\n",
    "stddev = np.std(x)\n",
    "print(\"Standard deviation: {}\".format(stddev))\n",
    "\n",
    "# Here's the mathematical way to calculate the standard deviation, just for fun:\n",
    "manual_stddev = np.sqrt(np.mean((x - np.mean(x)) ** 2))\n",
    "print(manual_stddev)"
   ]
  },
  {
   "cell_type": "markdown",
   "id": "7619c9a4",
   "metadata": {},
   "source": [
    "## Summary stats on \"real\" data\n",
    "\n",
    "We've prepared a JSON file containing several sets of X-Y data points.  For each of the data sets, compute the **mean** and the **standard deviation** in both X and Y.  Make some hypotheses about these datasets --- how similar are they?"
   ]
  },
  {
   "cell_type": "code",
   "execution_count": null,
   "id": "fc05c00b",
   "metadata": {},
   "outputs": [],
   "source": [
    "# Run this cell to (re)load the data from the JSON file\n",
    "import json\n",
    "data = json.load(open('lecture15_data.json'))\n",
    "\n",
    "print(data.keys()) # The top-level dictionary has four keys corresponding to the four datasets\n",
    "print(data['set0'].keys()) # Each sub-dictionary has keys 'x' and 'y' corresponding to the x and y coordinatesb"
   ]
  },
  {
   "cell_type": "code",
   "execution_count": null,
   "id": "6b225135",
   "metadata": {},
   "outputs": [],
   "source": [
    "# Your code here...\n",
    "# Compute the mean and standard deviation for the X and Y coordinates of all 4 datasets"
   ]
  },
  {
   "cell_type": "markdown",
   "id": "2122b55c",
   "metadata": {},
   "source": [
    "Now try plotting the data using matplotlib's `scatter()` function.  This works just like `plot()` that you're used to --- you just pass in arrays of X and Y coordinates."
   ]
  },
  {
   "cell_type": "code",
   "execution_count": null,
   "id": "5a1f9eae",
   "metadata": {},
   "outputs": [],
   "source": [
    "import matplotlib.pyplot as plt\n",
    "\n",
    "# Your code here...\n",
    "# Create a scatter plot of each of the datasets"
   ]
  },
  {
   "cell_type": "markdown",
   "id": "66bee496",
   "metadata": {},
   "source": [
    "# Histograms\n",
    "\n",
    "Hopefully the previous exercise illustrated the importance of visualizing your data instead of relying on summary statistics!  However, sometimes we have too much data for a scatter plot, or perhaps it's 1-dimensional data that isn't really appropriate for a scatter plot.\n",
    "This is where histograms shine: telling a more complete story than a simple summary statistic, but not overwhelming viewers with all of the data.\n",
    "\n",
    "Suppose we have the following four sets of grades on an exam:"
   ]
  },
  {
   "cell_type": "code",
   "execution_count": null,
   "id": "fde8212d",
   "metadata": {},
   "outputs": [],
   "source": [
    "grades1 = [98, 90, 12, 92, 90, 91, 93, 99, 93, 93, 99, 94]\n",
    "grades2 = [87, 87, 87, 87, 87, 87, 87, 87, 87, 87, 87, 87]\n",
    "grades3 = [81, 82, 83, 91, 92, 93, 81, 82, 83, 91, 92, 93]\n",
    "grades4 = [98, 76, 74, 99, 99, 73, 76, 98, 77, 97, 99, 78]"
   ]
  },
  {
   "cell_type": "markdown",
   "id": "7d7f4b30",
   "metadata": {},
   "source": [
    "We could compute summary statistics on them, but it turns out that isn't very helpful:"
   ]
  },
  {
   "cell_type": "code",
   "execution_count": null,
   "id": "c1f698e5",
   "metadata": {},
   "outputs": [],
   "source": [
    "import numpy as np\n",
    "import matplotlib.pyplot as plt\n",
    "\n",
    "print(\"Average grade on 1 is \", np.mean(grades1))\n",
    "print(\"Average grade on 2 is \", np.mean(grades2))\n",
    "print(\"Average grade on 3 is \", np.mean(grades3))\n",
    "print(\"Average grade on 4 is \", np.mean(grades4))"
   ]
  },
  {
   "cell_type": "markdown",
   "id": "d2e4d1b0",
   "metadata": {},
   "source": [
    "It would be nice to get more detail.  The basic idea of a histogram is to create \"bins\" --- ranges of data --- and then count how many samples fall into each bin.\n",
    "\n",
    "For example, we could create bins corresponding to letter grades, and count how many scores fall into each:\n",
    "\n",
    "    A (90-100) | 12\n",
    "    B (80-90)  | 0\n",
    "    C (70-80)  | 0\n",
    "    D (60-70)  | 0\n",
    "    F (< 60)   | 1\n",
    "    \n",
    "If we plot this with a bar graph, it's called a histogram.  The X-axis shows the value, and the Y-axis shows the number of samples with that value."
   ]
  },
  {
   "cell_type": "code",
   "execution_count": null,
   "id": "556a817f",
   "metadata": {},
   "outputs": [],
   "source": [
    "plt.hist(grades1)\n",
    "plt.show()"
   ]
  },
  {
   "cell_type": "markdown",
   "id": "0b2d909d",
   "metadata": {},
   "source": [
    "You'll notice that this didn't come out exactly the same way as our manual count above.  This is because matplotlib is picking the bins for us automatically, and it chose differently than we did.  We can fix this by specifying the bins manually:"
   ]
  },
  {
   "cell_type": "code",
   "execution_count": null,
   "id": "0d4c6b2d",
   "metadata": {},
   "outputs": [],
   "source": [
    "bins = [0, 60, 70, 80, 90, 100] # This specifies 5 bins: 0-60, 60-70, 70-80, 80-90, 90-100\n",
    "plt.hist(grades1, bins)\n",
    "plt.show()"
   ]
  },
  {
   "cell_type": "markdown",
   "id": "fe13595f",
   "metadata": {},
   "source": [
    "But this gives the impression that we had 1 student each at 10, 20, 30, 40 and 50, when in reality there's only one student.  There are several ways to deal with this, but one is just to label our bins more carefully using the `xticks` function."
   ]
  },
  {
   "cell_type": "code",
   "execution_count": null,
   "id": "b4a8f547",
   "metadata": {},
   "outputs": [],
   "source": [
    "plt.hist(grades1, bins)\n",
    "plt.xticks([30, 65, 75, 85, 95], ['F', 'D', 'C', 'B', 'A'])\n",
    "plt.show()"
   ]
  },
  {
   "cell_type": "markdown",
   "id": "c977d0e0",
   "metadata": {},
   "source": [
    "Try making histograms with the other grades.\n",
    "\n",
    "*Challenge*: Figure out how to make the bins all the same width, so as to keep a consistent data-ink ratio.  You may want to look at the return values from `hist()` and  the `bar()` function."
   ]
  },
  {
   "cell_type": "code",
   "execution_count": null,
   "id": "b9d166c9",
   "metadata": {},
   "outputs": [],
   "source": [
    "# Your code here"
   ]
  },
  {
   "cell_type": "markdown",
   "id": "01c704e6",
   "metadata": {},
   "source": [
    "Instead of specifying the bins manually, we can simply specify the number of bins.\n",
    "\n",
    "Suppose hundreds of students take a really hard exam, producing the grades in `biggrades`.  We can draw this with 5 evenly spaced bins, simply by passing `5` as the second argument to `hist()`.\n",
    "\n",
    "* Take some time to play around with different numbers of bins.  Try small numbers (like 2) and really big numbers (like 500).  Is there a number that feels \"about right\"?\n",
    "\n",
    "* When you use a number of bins greater than about 50, some bins suddenly get far larger than others.  Why do you think this is?  How might you avoid it?  (The effect becomes more obvious if you increase the number of students to 5000 or more.)\n",
    "\n",
    "*Challenge*: What sort of methods could you use to automatically select a \"good\" number of histogram bins?  See [this article](https://docs.astropy.org/en/stable/visualization/histogram.html) for some discussion and examples."
   ]
  },
  {
   "cell_type": "code",
   "execution_count": null,
   "id": "8ee5b14b",
   "metadata": {},
   "outputs": [],
   "source": [
    "np.random.seed(0) # Seed the random number generator so we get the same \"random\" numbers every time\n",
    "N = 500 # Number of students\n",
    "biggrades = np.floor(np.maximum(np.zeros(N), np.random.randn(N) * 20 + 50))\n",
    "plt.hist(biggrades, 5)\n",
    "plt.show()"
   ]
  },
  {
   "cell_type": "markdown",
   "id": "d0d231cd",
   "metadata": {},
   "source": [
    "(Side note: I once took an exam that had a distribution like this... and I was well below the mean.)"
   ]
  }
 ],
 "metadata": {
  "kernelspec": {
   "display_name": "Python 3",
   "language": "python",
   "name": "python3"
  },
  "language_info": {
   "codemirror_mode": {
    "name": "ipython",
    "version": 3
   },
   "file_extension": ".py",
   "mimetype": "text/x-python",
   "name": "python",
   "nbconvert_exporter": "python",
   "pygments_lexer": "ipython3",
   "version": "3.8.0"
  }
 },
 "nbformat": 4,
 "nbformat_minor": 5
}
