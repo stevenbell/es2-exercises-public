{
 "cells": [
  {
   "cell_type": "markdown",
   "id": "0fa395e2",
   "metadata": {},
   "source": [
    "# Monte Carlo simulation\n",
    "\n",
    "Back when we did the pendulum physics problem in project 3, we used numerical simulation to model the behavior of a deterministic system where the true equations were difficult to solve.\n",
    "\n",
    "Here we'll look at another sort of numerical simulation.  The problems we'll solve are not hard because the equations are hard, but because there is uncertainty in the starting state or some of the inputs.  While there are analytical methods for doing these calculations while tracking the uncertainty, it is often easier to simply try a whole bunch of scenarios at random and then see what the range of possible results are.  This is known as \"Monte Carlo\" simulation, named after the casino in Monaco.\n"
   ]
  },
  {
   "cell_type": "markdown",
   "id": "63ad7e19",
   "metadata": {},
   "source": [
    "## A quick example: estimating $\\pi$\n",
    "\n",
    "There are many good ways to calculate $\\pi$, but this is not one of them.  However, it nicely demonstrates the basic idea of Monte Carlo simulation."
   ]
  },
  {
   "cell_type": "code",
   "execution_count": null,
   "id": "a2188dbd",
   "metadata": {},
   "outputs": [],
   "source": [
    "import numpy as np\n",
    "import matplotlib.pyplot as plt\n",
    "\n",
    "# Create a random number generator\n",
    "# This is the \"new\" way to generate random numbers in NumPy\n",
    "# If you specify a number in the parenthesis, that will be used as the seed\n",
    "rng = np.random.default_rng()\n",
    "\n",
    "# Number of points to simulate\n",
    "N = 1000\n",
    "\n",
    "# Values are between 0 and 1, so we'll look at the upper-right quadrant\n",
    "x = rng.random(N)\n",
    "y = rng.random(N)\n",
    "\n",
    "# Equation for a circle is X^2+Y^2 = 1, so anything less than this is inside\n",
    "inside = (x**2 + y**2) < 1\n",
    "\n",
    "# Fraction of points which fell inside the circle\n",
    "inside_points = sum(inside) / N\n",
    "\n",
    "# Area enclosed by the 1/4 circle in the upper right quadrant is pi*r^2 / 4, where r=1\n",
    "# So just multiply the fraction of points inside by 4\n",
    "pi_estimate = 4*inside_points\n",
    "print(\"Using {} points, estimated pi to be {}\".format(N, pi_estimate))\n",
    "\n",
    "\n",
    "# Draw a graph just for fun\n",
    "plt.scatter(x,y, c=inside)\n",
    "r_circ = np.linspace(0, np.pi/2, 100)\n",
    "plt.plot(np.cos(r_circ), np.sin(r_circ), 'r')\n",
    "plt.axis(\"equal\") # Make axes use the same scale so the circle is a circle\n",
    "plt.show()\n"
   ]
  },
  {
   "cell_type": "markdown",
   "id": "e6649b98",
   "metadata": {},
   "source": [
    "## Different kinds of random\n",
    "\n",
    "The previous example used \"uniform random\" numbers, meaning that all of the numbers are between 0 and 1, and any value in that range is equally likely.\n",
    "\n",
    "Make a histogram of the values of `x` above.  How would you describe the histogram?\n",
    "\n",
    "*Challenge*: What do you think the histogram of `x+y` looks like?  Try drawing it on paper first, and then try it with code."
   ]
  },
  {
   "cell_type": "code",
   "execution_count": null,
   "id": "35c654af",
   "metadata": {
    "tags": [
     "student"
    ]
   },
   "outputs": [],
   "source": [
    "# Your code here..."
   ]
  },
  {
   "cell_type": "markdown",
   "id": "880da3eb",
   "metadata": {},
   "source": [
    "NumPy has the ability to generate [many different \"distributions\" of random numbers](https://numpy.org/doc/stable/reference/random/generator.html) in addition to the \"uniform\" distribution we've already seen.  We'll just look at one of them, the \"normal distribution\".\n",
    "\n",
    "\n",
    "* Read the documentation for the [`normal()`](https://numpy.org/doc/stable/reference/random/generated/numpy.random.Generator.normal.html#numpy.random.Generator.normal) function.\n",
    "* Use the `normal()` function to generate 1000 random numbers with a mean of 5 and standard deviation of 2.\n",
    "* Make a histogram like before.\n",
    "* Use NumPy to check that the mean and standard deviation of your numbers\n",
    "\n",
    "*Challenge*: What distribution to you get if you add two normally-distributed numbers together?  What if you add two distributions with different means or standard deviations?"
   ]
  },
  {
   "cell_type": "code",
   "execution_count": null,
   "id": "ad9636ac",
   "metadata": {
    "tags": [
     "student"
    ]
   },
   "outputs": [],
   "source": [
    "# Your code here..."
   ]
  },
  {
   "cell_type": "markdown",
   "id": "e9f0a268",
   "metadata": {},
   "source": [
    "## Simulating travel\n",
    "\n",
    "Suppose you're traveling to Logan airport --- maybe to fly home for the summer.\n",
    "\n",
    "How long will it take you to get from your room through security at the airport?  What is the overall trip time and variance?\n",
    "\n",
    "* If you leave your dorm two hours before the plane departure, how sure are you that you will make it in time?\n",
    "* What if you leave 90 minutes before departure?\n",
    "* What about 60 minutes?\n",
    "\n",
    "### Step 1: events\n",
    "What are the steps in the process of getting to the airport and through security?\n",
    "\n",
    "### Step 2: space (the range of possibilities)\n",
    "For each event, what is the range of possibilities?\n",
    "\n",
    "* Is the event a constant or probabalistic? (i.e., is is the same every time, or variable?)\n",
    "* If the event is probabalistic, what are the min/max/typical values?\n",
    "\n",
    "### Step 3: distribution (nailing this down mathematically)\n",
    "For each event, determine what probability distribution (or constant) you will use.\n",
    "\n",
    "### Step 4: put it all together\n",
    "Combine the events together to sample the overall time.  Run your simulation on hundreds or thousands of trials to see what the overall distribution is.\n"
   ]
  },
  {
   "cell_type": "code",
   "execution_count": null,
   "id": "0fa2bd96",
   "metadata": {
    "tags": [
     "student"
    ]
   },
   "outputs": [],
   "source": [
    "# Your code here..."
   ]
  }
 ],
 "metadata": {
  "kernelspec": {
   "display_name": "Python 3",
   "language": "python",
   "name": "python3"
  },
  "language_info": {
   "codemirror_mode": {
    "name": "ipython",
    "version": 3
   },
   "file_extension": ".py",
   "mimetype": "text/x-python",
   "name": "python",
   "nbconvert_exporter": "python",
   "pygments_lexer": "ipython3",
   "version": "3.8.0"
  }
 },
 "nbformat": 4,
 "nbformat_minor": 5
}
