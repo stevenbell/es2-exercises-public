{
 "cells": [
  {
   "cell_type": "code",
   "execution_count": 1,
   "id": "f14bb600",
   "metadata": {},
   "outputs": [],
   "source": [
    "# Run this cell to load all of the data\n",
    "import numpy as np \n",
    "\n",
    "# Raw data as reported by MBTA\n",
    "incomedata = {\n",
    "    'Income Range': ['<14,500', '14,500-28,999', '29,000-43,499', '43,500-57,999', '58,000-75,999', '76,000-108,499', '108,500-151,999', '>152,000'],\n",
    "    'Lower Income Limit': [0, 14500, 29000, 43500, 58000, 76000, 108500, 152000], \n",
    "    'Upper Income Limit': [14499, 28999, 43499, 57999, 75999, 108499, 151999, 250000],\n",
    "    'Percent of Bus Riders': [13.3, 13.3, 15.7, 13.3, 12.0, 14.5, 9.6, 8.4],\n",
    "    'Percent of Subway Riders': [7.2, 7.2, 12.0, 12.0, 13.3, 18.1, 14.5, 16.9],\n",
    "    'Percent of CRail Riders': [1.3, 1.3, 3.8, 5.1, 10.1, 19.0, 22.8, 34.2],\n",
    "}\n",
    "\n",
    "# Trips per day\n",
    "li_ridership = {\"bus\": 61320, \"subway\": 85280,  \"commuter rail\": 4130}\n",
    "notli_ridership = {\"bus\": 84680, \"subway\": 242720, \"commuter rail\": 54870}\n",
    "fares = {\"bus\": 1.70, \"subway\": 2.40, \"commuter rail\": 8.00} # Assume commuter rail average is $8, it varies by trip length\n",
    "\n",
    "# classification of low-income and not-low-income datasets\n",
    "# - these can be used to \"select\" subsets of the income data\n",
    "lowincome = ['<14,500', '14,500-28,999', '29,000-43,499']\n",
    "non_lowincome = ['43,500-57,999', '58,000-75,999', '76,000-108,499', '108,500-151,999', '>152,000']"
   ]
  },
  {
   "cell_type": "code",
   "execution_count": null,
   "id": "47b2158e",
   "metadata": {},
   "outputs": [],
   "source": [
    "# Your code here... \n"
   ]
  }
 ],
 "metadata": {
  "kernelspec": {
   "display_name": "Python 3",
   "language": "python",
   "name": "python3"
  },
  "language_info": {
   "codemirror_mode": {
    "name": "ipython",
    "version": 3
   },
   "file_extension": ".py",
   "mimetype": "text/x-python",
   "name": "python",
   "nbconvert_exporter": "python",
   "pygments_lexer": "ipython3",
   "version": "3.8.0"
  }
 },
 "nbformat": 4,
 "nbformat_minor": 5
}
