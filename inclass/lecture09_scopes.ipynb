{
 "cells": [
  {
   "cell_type": "markdown",
   "id": "e7e1fba9",
   "metadata": {},
   "source": [
    "# Variable scopes"
   ]
  },
  {
   "cell_type": "markdown",
   "id": "6f4f82f8",
   "metadata": {},
   "source": [
    "Variables that are created within a function are called *local* variables, and are only acessible inside the function.  This may seem annoying, but it's a really good thing: it means you can write a function (or use other people's functions) without worrying that your variable names might accidentally conflict with something else in the code."
   ]
  },
  {
   "cell_type": "code",
   "execution_count": null,
   "id": "8d84ce92",
   "metadata": {},
   "outputs": [],
   "source": [
    "def printValue():\n",
    "    a = 12\n",
    "    print(\"Inside printValue: a = {}\".format(a))\n",
    "    \n",
    "printValue()\n",
    "print(\"After calling printValue: a = {}\".format(a))"
   ]
  },
  {
   "cell_type": "markdown",
   "id": "70b88feb",
   "metadata": {},
   "source": [
    "What happens if you create a local variable with the same name as another variable?"
   ]
  },
  {
   "cell_type": "code",
   "execution_count": null,
   "id": "2416e089",
   "metadata": {},
   "outputs": [],
   "source": [
    "b = 4\n",
    "def printValue():\n",
    "    b = 19\n",
    "    print(\"Inside printValue: b = {}\".format(b))\n",
    "\n",
    "printValue()\n",
    "print(\"After calling printValue: b = {}\".format(b))"
   ]
  },
  {
   "cell_type": "markdown",
   "id": "d3915a7c",
   "metadata": {},
   "source": [
    "This also extends to parameters: if you give a parameter the same name as another variable in the file, you can only access the local parameter.  And any changes you make to the parameter don't have any effect on the outside variable. "
   ]
  },
  {
   "cell_type": "code",
   "execution_count": null,
   "id": "fbe3fa0c",
   "metadata": {},
   "outputs": [],
   "source": [
    "c = 5\n",
    "\n",
    "def printValue(c):\n",
    "    print(\"Inside printValue: c = {}\".format(c))\n",
    "\n",
    "printValue(7)\n",
    "print(\"After calling printValue: c = {}\".format(c))"
   ]
  },
  {
   "cell_type": "markdown",
   "id": "89fa3d0d",
   "metadata": {},
   "source": [
    "However, if you use a variable name that you haven't defined as a local variable, Python will give you the external variable:"
   ]
  },
  {
   "cell_type": "code",
   "execution_count": null,
   "id": "695afe76",
   "metadata": {},
   "outputs": [],
   "source": [
    "d = 5\n",
    "\n",
    "def printValue():\n",
    "    print(\"Inside printValue: d = {}\".format(d))\n",
    "\n",
    "d = 8\n",
    "printValue()"
   ]
  },
  {
   "cell_type": "markdown",
   "id": "a266371e",
   "metadata": {},
   "source": [
    "Here's where things get a little weird: If you try to change an external variable inside a function, it doesn't work.  Why not?"
   ]
  },
  {
   "cell_type": "code",
   "execution_count": null,
   "id": "a713c104",
   "metadata": {},
   "outputs": [],
   "source": [
    "e = 3\n",
    "def printValue():\n",
    "    e = 9\n",
    "    print(\"Inside printValue: e = {}\".format(e))\n",
    "\n",
    "printValue()\n",
    "print(\"After calling printValue: e = {}\".format(e))"
   ]
  },
  {
   "cell_type": "markdown",
   "id": "8512c502",
   "metadata": {},
   "source": [
    "What happens if you try to print the value of `e` before the line `e = 9`?  Do you get the external value of `e`, the internal value of `e`, or something else?\n",
    "\n",
    "*Challenge*: \n",
    "* These examples have all used integers.  What about other data types, like strings or lists?\n",
    "* If you have experience with another programming language, how does that language know whether you're using a local variable or an external one?  Is it possible to access external variables?  Under what circumstances?"
   ]
  },
  {
   "cell_type": "markdown",
   "id": "2e7e4db1",
   "metadata": {},
   "source": [
    "## Global variables\n",
    "\n",
    "What if I want to write a function that modifies an external variable?  *Well, you shouldn't do that.*\n",
    "\n",
    "But I really want to! *No, you really don't.  There are almost certainly better ways to structure your code, which make it more modular and easier to understand.  You should consider passing the data as a parameter instead of modifying an external variable.*\n",
    "\n",
    "But my code is special, and I really need to!  *Global variables cause all sorts of problems and good reasons to use them are rare, but if you absolutely insist, here's how:*"
   ]
  },
  {
   "cell_type": "code",
   "execution_count": null,
   "id": "b200308b",
   "metadata": {},
   "outputs": [],
   "source": [
    "f = 5\n",
    "\n",
    "def printValue():\n",
    "    global f # This tells Python to use the \"global\" (aka external) f, instead of creating a new local variable\n",
    "    f = 10\n",
    "    print(\"Inside printValue: f = {}\".format(f))\n",
    "\n",
    "printValue()\n",
    "print(\"After calling printValue: f = {}\".format(f))"
   ]
  }
 ],
 "metadata": {
  "kernelspec": {
   "display_name": "Python 3",
   "language": "python",
   "name": "python3"
  },
  "language_info": {
   "codemirror_mode": {
    "name": "ipython",
    "version": 3
   },
   "file_extension": ".py",
   "mimetype": "text/x-python",
   "name": "python",
   "nbconvert_exporter": "python",
   "pygments_lexer": "ipython3",
   "version": "3.8.0"
  }
 },
 "nbformat": 4,
 "nbformat_minor": 5
}
