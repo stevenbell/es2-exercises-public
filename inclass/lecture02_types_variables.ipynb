{
 "cells": [
  {
   "cell_type": "markdown",
   "id": "b587f5f5",
   "metadata": {},
   "source": [
    "Last time we wrote code to perform basic math.  Today, we'll experiment with two concepts: *types* and *variables*."
   ]
  },
  {
   "cell_type": "markdown",
   "id": "b6bfef60",
   "metadata": {},
   "source": [
    "# Types\n",
    "\n",
    "Every Python expression has a *type*.  There are a few basic types in Python:\n",
    "* Integers (`int`)\n",
    "* Floating-point (aka decimal) numbers (`float`)\n",
    "* Strings of characters (`str`)\n",
    "\n",
    "We can find the type of any expression using the Python command `type()`:"
   ]
  },
  {
   "cell_type": "code",
   "execution_count": null,
   "id": "494f1472",
   "metadata": {},
   "outputs": [],
   "source": [
    "type(3)"
   ]
  },
  {
   "cell_type": "markdown",
   "id": "05c0d155",
   "metadata": {},
   "source": [
    "Experiment with some other things.  What is the type of each of these expressions?\n",
    "\n",
    "    6\n",
    "    'six'\n",
    "    6.0\n",
    "    \"6\"\n",
    "    '6.0'\n",
    "\n",
    "What about these?\n",
    "\n",
    "    3 + 2\n",
    "    3.0 + 2.0\n",
    "    3 / 2\n",
    "    3 // 2\n",
    "    3 ** 2\n",
    "    \"three\" * 2   (wait, what does this even do?)\n",
    "\n",
    "*Challenge:* What about these?  Why do you think the designers of Python chose these result types, instead of something else?\n",
    "\n",
    "    3.0 + 2\n",
    "    10 / 2\n",
    "    math.sqrt(9)\n",
    "    int(5.7)  (what is the value?)\n",
    "\n",
    "*Challenge:* What's the difference between `-5 // 2` and `int(-5/2)`?  Do they give the same result?  Why or why not?\n"
   ]
  },
  {
   "cell_type": "markdown",
   "id": "8430e5e5",
   "metadata": {},
   "source": [
    "# Variables\n",
    "\n",
    "Python lets us take an expression and stick a \"label\" on it.  For example:"
   ]
  },
  {
   "cell_type": "code",
   "execution_count": null,
   "id": "190b83c7",
   "metadata": {},
   "outputs": [],
   "source": [
    "airspeed = 12.4"
   ]
  },
  {
   "cell_type": "markdown",
   "id": "2cbc140e",
   "metadata": {},
   "source": [
    "This creates a *variable* called `airspeed`, and we can use that in later expressions:"
   ]
  },
  {
   "cell_type": "code",
   "execution_count": null,
   "id": "a03f6624",
   "metadata": {},
   "outputs": [],
   "source": [
    "print(airspeed * 2)"
   ]
  },
  {
   "cell_type": "markdown",
   "id": "2039c477",
   "metadata": {},
   "source": [
    "I can even use the variable to assign another variable:"
   ]
  },
  {
   "cell_type": "code",
   "execution_count": null,
   "id": "f135aabc",
   "metadata": {},
   "outputs": [],
   "source": [
    "groundspeed = airspeed + 3\n",
    "print(groundspeed)"
   ]
  },
  {
   "cell_type": "markdown",
   "id": "69e50495",
   "metadata": {},
   "source": [
    "# Thinking like the computer\n",
    "Let's practice reading some code with variables.\n",
    "\n",
    "What happens when you execute the code below?  (Don't try it just yet!)"
   ]
  },
  {
   "cell_type": "code",
   "execution_count": null,
   "id": "2edb6db8",
   "metadata": {},
   "outputs": [],
   "source": [
    "a = 12\n",
    "b = a + 5\n",
    "a = 0\n",
    "\n",
    "print(b)"
   ]
  },
  {
   "cell_type": "code",
   "execution_count": null,
   "id": "fc2a1426",
   "metadata": {},
   "outputs": [],
   "source": [
    "a = 12\n",
    "a = a + 2\n",
    "print(a)"
   ]
  },
  {
   "cell_type": "code",
   "execution_count": null,
   "id": "a832152a",
   "metadata": {},
   "outputs": [],
   "source": [
    "12 = a\n",
    "a + 2 = a\n",
    "print(a)"
   ]
  },
  {
   "cell_type": "code",
   "execution_count": null,
   "id": "41cb5197",
   "metadata": {},
   "outputs": [],
   "source": [
    "a = \"Hello!\"\n",
    "b = a\n",
    "b = 5\n",
    "print(a)"
   ]
  },
  {
   "cell_type": "markdown",
   "id": "e193400e",
   "metadata": {},
   "source": [
    "Suppose we have two things to say, but they're mixed up.  Write code to swap them."
   ]
  },
  {
   "cell_type": "code",
   "execution_count": null,
   "id": "369ffcdc",
   "metadata": {},
   "outputs": [],
   "source": [
    "welcome = \"Goodbye, friends!\"\n",
    "farewell = \"Hello, world!\"\n",
    "\n",
    "# Add your mix-up fix-up code here\n",
    "\n",
    "print(welcome) # Should print the welcome greeting above\n",
    "print(farewell) # Should print the farewell"
   ]
  },
  {
   "cell_type": "markdown",
   "id": "229c1562",
   "metadata": {},
   "source": [
    "# Save your notebook\n",
    "If you want to keep the work you've done here, you'll need to save it to your computer (`File -> Download`).  We'll have a Jupyter workspace for you later this week, where you can keep all of your stuff for the semester."
   ]
  }
 ],
 "metadata": {
  "kernelspec": {
   "display_name": "Python 3",
   "language": "python",
   "name": "python3"
  },
  "language_info": {
   "codemirror_mode": {
    "name": "ipython",
    "version": 3
   },
   "file_extension": ".py",
   "mimetype": "text/x-python",
   "name": "python",
   "nbconvert_exporter": "python",
   "pygments_lexer": "ipython3",
   "version": "3.8.0"
  }
 },
 "nbformat": 4,
 "nbformat_minor": 5
}
