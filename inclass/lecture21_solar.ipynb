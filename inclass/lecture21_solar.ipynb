{
 "cells": [
  {
   "cell_type": "markdown",
   "id": "d11238dc",
   "metadata": {},
   "source": [
    "# Pandas and data manipulation\n",
    "\n",
    "You've learned how to work with data stored in CSV and JSON files using \"plain\" Python, but there are many libraries created to make this easier.  One of the most commonly used ones is [Pandas](https://pandas.pydata.org).  Pandas has some excellent [tutorial documentation](https://pandas.pydata.org/docs/getting_started/intro_tutorials/index.html), which is useful for understanding Pandas beyond the basics we're doing here.\n",
    "\n",
    "To get started with Pandas, just import it like any other library.  We'll use `pd` as an abbreviation, the way we use `np` for `numpy`."
   ]
  },
  {
   "cell_type": "code",
   "execution_count": null,
   "id": "b31d864f",
   "metadata": {},
   "outputs": [],
   "source": [
    "import pandas as pd"
   ]
  },
  {
   "cell_type": "markdown",
   "id": "0de574ef",
   "metadata": {},
   "source": [
    "Now let's load in a familiar data file:"
   ]
  },
  {
   "cell_type": "code",
   "execution_count": null,
   "id": "072885db",
   "metadata": {},
   "outputs": [],
   "source": [
    "data = pd.read_csv(\"../project/bls_fatalities_summary.csv\")"
   ]
  },
  {
   "cell_type": "markdown",
   "id": "fc0752fc",
   "metadata": {},
   "source": [
    "Ok, that was easy.  But what is in `data`, and how do we access it?\n",
    "\n",
    "* What is the type of `data`?\n",
    "* What does `data.columns` return?\n",
    "* What does `data[\"year\"]` return?\n",
    "* What about `data[\"year\"] == 2015`?\n",
    "* What about `data[data[\"year\"] == 2015`]?\n",
    "\n",
    "*Challenge*: Read this [tutorial page](https://pandas.pydata.org/docs/getting_started/intro_tutorials/03_subset_data.html) and try some other indexing methods."
   ]
  },
  {
   "cell_type": "code",
   "execution_count": null,
   "id": "551363be",
   "metadata": {},
   "outputs": [],
   "source": [
    "# Your code here..."
   ]
  },
  {
   "cell_type": "markdown",
   "id": "e8f53c81",
   "metadata": {},
   "source": [
    "We can also create new data columns using existing columns and math operations:"
   ]
  },
  {
   "cell_type": "code",
   "execution_count": null,
   "id": "d66ef7bd",
   "metadata": {},
   "outputs": [],
   "source": [
    "data['total'] = data['year'] + 5\n",
    "\n",
    "data # This will cause Jupyter/pandas to print a nice table"
   ]
  },
  {
   "cell_type": "markdown",
   "id": "33a32470",
   "metadata": {},
   "source": [
    "Change the code above to calculate the total number of workplace fatalities.\n",
    "\n",
    "What happens when you do math with the `NaN` values?\n",
    "\n",
    "*Challenge*:\n",
    "* You can get an explicit `NaN` (aka `nan`) value in Python using `math.nan`.  What is the result of `math.nan == math.nan`?  Why?  (And what about `math.nan is math.nan`?)\n",
    "* Under what conditions do you get a `NaN`?  Is it the same as infinity?  [Wikipedia](https://en.wikipedia.org/wiki/NaN) is a good starting place for understanding this.\n"
   ]
  },
  {
   "cell_type": "markdown",
   "id": "6b21df26",
   "metadata": {},
   "source": [
    "## Data cleaning\n",
    "\n",
    "We need some way to filter out out the `NaN` values.  We can select the rows where a particular column is zero using the `isna()` function:"
   ]
  },
  {
   "cell_type": "code",
   "execution_count": null,
   "id": "a48e5436",
   "metadata": {},
   "outputs": [],
   "source": [
    "data['Multiple races (non-Hispanic)'].isna()"
   ]
  },
  {
   "cell_type": "markdown",
   "id": "c0960ab1",
   "metadata": {},
   "source": [
    "* Write code to set the `NaN` values to 0."
   ]
  },
  {
   "cell_type": "markdown",
   "id": "20801ae2",
   "metadata": {},
   "source": [
    "## Plotting\n",
    "\n",
    "Now that we can read a CSV file with pandas and extract particular columns of interest, it should also be easy to plot data.  Make a plot showing the percentage of \"Hispanic or Latino\" deaths as a fraction of the total number of workplace deaths.\n",
    "\n",
    "Note that pandas has some built-in plotting functions, but these are just wrappers around matplotlib.  For now, I strongly encourage you to keep using the matplotlib functions you know and (hopefully) love."
   ]
  },
  {
   "cell_type": "code",
   "execution_count": null,
   "id": "0cfaea2b",
   "metadata": {},
   "outputs": [],
   "source": []
  },
  {
   "cell_type": "markdown",
   "id": "f701f042",
   "metadata": {},
   "source": [
    "## Solar data\n",
    "\n",
    "In the next project, we'll be looking at the state of rooftop solar installation in the United States.  Let's start just by exploring the data, which comes from Google's [Project Sunroof](https://sunroof.withgoogle.com/data-explorer/).\n",
    "\n",
    "* Try looking at the solar opportunity and installation trends for some different places.  What do you observe?\n",
    "* Is \"going solar\" a good option for these places?  Why or why not?\n",
    "\n",
    "The data is available as a CSV file, which you can download from Google: https://storage.googleapis.com/project-sunroof/csv/latest/project-sunroof-census_tract.csv\n",
    "\n",
    "You'll need to upload this to JupyterLab, ideally in the `inclass` folder.\n"
   ]
  },
  {
   "cell_type": "code",
   "execution_count": null,
   "id": "69ef63ff",
   "metadata": {},
   "outputs": [],
   "source": [
    "solar = pd.read_csv(\"project-sunroof-census_tract.csv\")"
   ]
  },
  {
   "cell_type": "markdown",
   "id": "3caa2d64",
   "metadata": {},
   "source": [
    "Try doing the following things with the data:\n",
    "* Select all of the rows corresponding to a particular state.\n",
    "* What tract has the most solar generation potential?\n",
    "* How many tracts have less than 80% coverage by Project Sunroof?"
   ]
  }
 ],
 "metadata": {
  "kernelspec": {
   "display_name": "Python 3",
   "language": "python",
   "name": "python3"
  },
  "language_info": {
   "codemirror_mode": {
    "name": "ipython",
    "version": 3
   },
   "file_extension": ".py",
   "mimetype": "text/x-python",
   "name": "python",
   "nbconvert_exporter": "python",
   "pygments_lexer": "ipython3",
   "version": "3.8.0"
  }
 },
 "nbformat": 4,
 "nbformat_minor": 5
}
