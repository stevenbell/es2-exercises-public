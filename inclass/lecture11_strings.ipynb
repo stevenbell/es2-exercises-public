{
 "cells": [
  {
   "cell_type": "markdown",
   "id": "0a80976e",
   "metadata": {},
   "source": [
    "# Strings\n",
    "\n",
    "We've already encountered Python strings in a number of contexts.  Today, we'll explore some more advanced stuff you can do with strings."
   ]
  },
  {
   "cell_type": "markdown",
   "id": "06137d91",
   "metadata": {},
   "source": [
    "## Slicing strings\n",
    "You already know how to get a single character by its index.  But you can also specify a *range* of characters:"
   ]
  },
  {
   "cell_type": "code",
   "execution_count": null,
   "id": "085a428a",
   "metadata": {},
   "outputs": [],
   "source": [
    "s = \"The quick brown fox jumped over the lazy dog.\"\n",
    "\n",
    "print(s[8:5])"
   ]
  },
  {
   "cell_type": "markdown",
   "id": "0f50aa73",
   "metadata": {},
   "source": [
    "What happens if:\n",
    "* the range contains negative indices?\n",
    "* you leave off one of the numbers of the range (e.g., `s[7:]`)\n",
    "* the start of the range (left number) is greater than the end of the range (right number)?"
   ]
  },
  {
   "cell_type": "markdown",
   "id": "8e764a5c",
   "metadata": {},
   "source": [
    "*Challenge*:\n",
    "* We saw that NumPy slices are just \"views\" of the original array.  Is this true of strings, or not?\n",
    "* What is the result of the code below?  Is this behavior the same or different from lists?  Why do you think this is?"
   ]
  },
  {
   "cell_type": "code",
   "execution_count": null,
   "id": "afab30a3",
   "metadata": {},
   "outputs": [],
   "source": [
    "str1 = \"One, two, three!\"\n",
    "str2 = str(str1)\n",
    "\n",
    "print(str1 is str2)"
   ]
  },
  {
   "cell_type": "markdown",
   "id": "13709b2c",
   "metadata": {},
   "source": [
    "Write code to print out all of the email addresses with a `.edu` domain:"
   ]
  },
  {
   "cell_type": "code",
   "execution_count": null,
   "id": "2ee493e7",
   "metadata": {},
   "outputs": [],
   "source": [
    "emails = [\"nixie.knox@alphabetbooks.org\", \"rosyrobinross@mit.edu\", \"dude193897@gmail.com\", \"yolanda.yorgenson@tufts.edu\", \"spammingyouraddressbook.edu@yahoo.com\", \"willy.waterloo@harvard.edu\"]\n",
    "\n",
    "print(emails)"
   ]
  },
  {
   "cell_type": "markdown",
   "id": "32095703",
   "metadata": {},
   "source": [
    "*Challenge*: Write a function to verify whether an email address is valid.  Assume that a valid email address must:\n",
    "* contain no spaces\n",
    "* contain exactly one `@` symbol\n",
    "* the domain name must contain a `.`"
   ]
  },
  {
   "cell_type": "markdown",
   "id": "0ab19eb3",
   "metadata": {},
   "source": [
    "## String functions\n",
    "\n",
    "What do the following Python string functions do?  Try them out!\n",
    "\n",
    "You can type `help(str.split)` for information about the `split` function, or you can type `help(str)` for a list of all string functions.\n",
    "\n",
    "* `split`\n",
    "* `find`\n",
    "* `strip`\n",
    "* `replace`\n",
    "* `startswith` and `endswith`\n",
    "\n",
    "*Challenge*: Look at some of the more exotic string functions: `join`, `expandtabs`, `casefold`.\n"
   ]
  },
  {
   "cell_type": "code",
   "execution_count": null,
   "id": "c146ea2c",
   "metadata": {},
   "outputs": [],
   "source": [
    "# Experiment time!"
   ]
  },
  {
   "cell_type": "markdown",
   "id": "3480ae32",
   "metadata": {},
   "source": [
    "## Practice!"
   ]
  },
  {
   "cell_type": "markdown",
   "id": "f69bafda",
   "metadata": {},
   "source": [
    "**1)** In the code below, what does the `letterstat` function do?  Read the code carefully and experiment with it if you're not sure."
   ]
  },
  {
   "cell_type": "code",
   "execution_count": null,
   "id": "9f6c4d61",
   "metadata": {},
   "outputs": [],
   "source": [
    "def letterstat(string):\n",
    "    count = 0\n",
    "    for i in range(2, len(string)):\n",
    "        if string[i] == string[i-1]:\n",
    "            count = count + 1\n",
    "    return(count)\n",
    "\n",
    "print(letterstat(\"Hello, world!\"))"
   ]
  },
  {
   "cell_type": "markdown",
   "id": "8c992052",
   "metadata": {},
   "source": [
    "*Challenge*:\n",
    "* Make the `letterstat` function throw an exception.  Does it break if the string is shorter or longer than a certain length?  What else could go wrong?\n",
    "* `letterstat` works on a data type other than strings.  What other type works, and what does `letterstat` compute in this case?"
   ]
  },
  {
   "cell_type": "markdown",
   "id": "29e3f0ca",
   "metadata": {},
   "source": [
    "**2)** Write a function that returns the number of words in a string.  Assume a \"word\" is any sequence of non-whitespace characters."
   ]
  },
  {
   "cell_type": "code",
   "execution_count": null,
   "id": "fae0498e",
   "metadata": {},
   "outputs": [],
   "source": [
    "# Your code here..."
   ]
  },
  {
   "cell_type": "markdown",
   "id": "64629894",
   "metadata": {},
   "source": [
    "**3)** Write a function that takes a string containing a pair of parentheses, and returns just the content inside the parenthesis.  For example,\n",
    "\n",
    "    get_parenthesis(\"This code is (mostly) Python.\")\n",
    "\n",
    "should return the string `\"mostly\"`.\n"
   ]
  },
  {
   "cell_type": "code",
   "execution_count": null,
   "id": "e61d4579",
   "metadata": {},
   "outputs": [],
   "source": [
    "# Your code here"
   ]
  },
  {
   "cell_type": "markdown",
   "id": "697bb57b",
   "metadata": {},
   "source": [
    "*Challenge*: Make your function handle the following corner cases:\n",
    "* String doesn't contain parentheses (return None)\n",
    "* String only contains and opening or closing parenthesis (Return the part between the parenthesis and the beginning/end of the string)\n",
    "* String contains multiple sets of parentheses (return a list of strings, one item for each part)\n",
    "* String contains *nested* parentheses"
   ]
  },
  {
   "cell_type": "markdown",
   "id": "878dae72",
   "metadata": {},
   "source": [
    "## Formatting strings with `str.format()`"
   ]
  },
  {
   "cell_type": "markdown",
   "id": "1de348a7",
   "metadata": {},
   "source": []
  },
  {
   "cell_type": "markdown",
   "id": "9a00be67",
   "metadata": {},
   "source": [
    "## Bonus: Formatting strings with f-strings"
   ]
  },
  {
   "cell_type": "markdown",
   "id": "3b27f992",
   "metadata": {},
   "source": [
    "## Historical note\n",
    "\n",
    "Python has a couple other ways to format strings.  These are generally more clunky than `str.format()` and f-strings, but you may see in older code, or code written by programmers who are more familiar with other languages.\n",
    "\n",
    "The first is to simply convert values to strings and concatenate them together with the `+` operator:"
   ]
  },
  {
   "cell_type": "code",
   "execution_count": null,
   "id": "62e5a6c7",
   "metadata": {},
   "outputs": [],
   "source": [
    "years = 87\n",
    "print(str(years // 20) + \" score and \" + str(years % 20) + \" years ago...\")"
   ]
  },
  {
   "cell_type": "markdown",
   "id": "4b04d6a7",
   "metadata": {},
   "source": [
    "This style is reminiscent of Java.  It works, but it's hard to read and pretty much impossible to type right the first time.  You inevitably end up missing some `+` signs or some spaces in the string between values or some other character.\n",
    "\n",
    "The second way is to use the \"string formatting\" operator, `%`:"
   ]
  },
  {
   "cell_type": "code",
   "execution_count": null,
   "id": "1ce71b0f",
   "metadata": {},
   "outputs": [],
   "source": [
    "years = 87\n",
    "print(\"%d score and %d years ago...\" % (years // 20, years % 20))"
   ]
  },
  {
   "cell_type": "markdown",
   "id": "5f76ede7",
   "metadata": {},
   "source": [
    "This style is Python's \"old way\" of formatting strings, and is heavily inspired by C.  The `%d` characters are replaced by the items in the parenthesis (which is technically called a *tuple*, but that's a topic for another day).  You can also use other character options besides `%d`, such as `%f`, `%g`, `%x`, and `%c`.  Try some of these -- what do they do?  (`%g` is most interesting with floating-point values, `%x` is interesting for integers larger than 9, and `%c` is most interesting for numbers between 60 and 120.)"
   ]
  }
 ],
 "metadata": {
  "kernelspec": {
   "display_name": "Python 3",
   "language": "python",
   "name": "python3"
  },
  "language_info": {
   "codemirror_mode": {
    "name": "ipython",
    "version": 3
   },
   "file_extension": ".py",
   "mimetype": "text/x-python",
   "name": "python",
   "nbconvert_exporter": "python",
   "pygments_lexer": "ipython3",
   "version": "3.8.0"
  }
 },
 "nbformat": 4,
 "nbformat_minor": 5
}
