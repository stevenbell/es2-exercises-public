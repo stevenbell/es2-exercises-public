{
 "cells": [
  {
   "cell_type": "markdown",
   "id": "6c0dbba7",
   "metadata": {},
   "source": [
    "# Functions\n",
    "\n",
    "Up to this point, we've been working with the basic building blocks of Python --- variables, loops, conditionals, etc.  However, as we build bigger and bigger programs, it becomes helpful to define our own blocks.  With functions, we can bundle up a bit of code, and then easily reuse it in other parts of our program."
   ]
  },
  {
   "cell_type": "markdown",
   "id": "e7f626d3",
   "metadata": {},
   "source": [
    "Defining a function is straightforward:"
   ]
  },
  {
   "cell_type": "code",
   "execution_count": null,
   "id": "5f7f65ee",
   "metadata": {},
   "outputs": [],
   "source": [
    "def sayHello():\n",
    "    print(\"hello!\")"
   ]
  },
  {
   "cell_type": "markdown",
   "id": "8c8155ca",
   "metadata": {},
   "source": [
    "Run the cell above.  Notice that nothing appears to happen as a result of running the cell.  The function has been *defined*, but it has not yet been *run*.\n",
    "\n",
    "We can run the function by writing the function name followed by parenthesis:"
   ]
  },
  {
   "cell_type": "code",
   "execution_count": null,
   "id": "12ba2185",
   "metadata": {},
   "outputs": [],
   "source": [
    "sayHello()"
   ]
  },
  {
   "cell_type": "markdown",
   "id": "ab9fa254",
   "metadata": {},
   "source": [
    "## Function arguments\n",
    "\n",
    "Instead of the function always doing the same thing, it would be nice to be able to give it some data to operate on.  We do this by putting one or more things inside the parenthesis when we call the function.  These are called *arguments* to the function.\n",
    "\n",
    "To define a function which takes arguments, we must specify one or more names when we define the function.  The arguments will be stored in variables with these names (which are technically called *parameters*, but it's ok if you don't remember that.)"
   ]
  },
  {
   "cell_type": "code",
   "execution_count": null,
   "id": "033f3223",
   "metadata": {},
   "outputs": [],
   "source": [
    "def sayManyHello(numTimes):\n",
    "    for i in range(numTimes):\n",
    "        print(\"hello!\")\n",
    "        \n",
    "print(\"saying hello 3 times:\")\n",
    "sayManyHello(3)\n",
    "\n",
    "print(\"saying hello 2 times:\")\n",
    "sayManyHello(2)"
   ]
  },
  {
   "cell_type": "markdown",
   "id": "714e0d45",
   "metadata": {},
   "source": [
    "* What happens if you don't provide an argument to a function that expects one?\n",
    "\n",
    "* Write a function called `isOdd()` which accepts an integer and prints either `even` or `odd` depending on whether the number is even or odd."
   ]
  },
  {
   "cell_type": "code",
   "execution_count": null,
   "id": "d867cc2d",
   "metadata": {},
   "outputs": [],
   "source": [
    "\n",
    "# Your code here...\n"
   ]
  },
  {
   "cell_type": "markdown",
   "id": "bd88d5b4",
   "metadata": {},
   "source": [
    "*Challenge*:\n",
    "* What happens if you define a function with the same name twice?\n",
    "* What happens if you define a function with the same name as an existing variable?\n",
    "* What if you define a function called `print()`?  *You can always restart the kernel if things get hopelessly messed up.*"
   ]
  },
  {
   "cell_type": "markdown",
   "id": "81849fb2",
   "metadata": {},
   "source": [
    "## \"Fruitful\" functions\n",
    "\n",
    "Functions can also pass values back to the code that called them.  We've already seen this with functions like `math.sqrt()`: you pass a number as an argument, and the function passes back a number which is the square root of the input.\n",
    "\n",
    "To return a value from a function, use the `return` keyword:"
   ]
  },
  {
   "cell_type": "code",
   "execution_count": null,
   "id": "da84a23e",
   "metadata": {},
   "outputs": [],
   "source": [
    "def doubleTheNumber(x):\n",
    "    return 2*x\n",
    "\n",
    "doubleTheNumber(4)"
   ]
  },
  {
   "cell_type": "markdown",
   "id": "04d80a48",
   "metadata": {},
   "source": [
    "Write a function called `square()` which returns the square of whatever number is passed in."
   ]
  },
  {
   "cell_type": "code",
   "execution_count": null,
   "id": "037f0930",
   "metadata": {},
   "outputs": [],
   "source": [
    "\n",
    "# Your code here...\n"
   ]
  },
  {
   "cell_type": "markdown",
   "id": "15239b56",
   "metadata": {},
   "source": [
    "*Challenge*:\n",
    "* What is the type of `square`?  Why is this different than the type of `square(1)`?\n",
    "* What if you pass a string into the `square()` function?  How could you make it handle strings (more) gracefully?  *Hint: What does `math.sqrt` do?*\n",
    "* Write a function that accepts two arguments: a list, and a function.  Your function should call the passed function on every item in the list."
   ]
  }
 ],
 "metadata": {
  "kernelspec": {
   "display_name": "Python 3",
   "language": "python",
   "name": "python3"
  },
  "language_info": {
   "codemirror_mode": {
    "name": "ipython",
    "version": 3
   },
   "file_extension": ".py",
   "mimetype": "text/x-python",
   "name": "python",
   "nbconvert_exporter": "python",
   "pygments_lexer": "ipython3",
   "version": "3.8.0"
  }
 },
 "nbformat": 4,
 "nbformat_minor": 5
}
