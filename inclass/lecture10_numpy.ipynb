{
 "cells": [
  {
   "cell_type": "markdown",
   "id": "918c5bb7",
   "metadata": {},
   "source": [
    "# Introduction to NumPy arrays\n",
    "\n",
    "We've done some cool things with Python `list`s, but doing math with them gets tedious.  Today we'll learn the basics of NumPy, which is a numerical computation library for Python (hence the name).\n",
    "\n",
    "First we'll import the NumPy library, using the short name `np` (just like using `plt` for `matplotlib.pyplt`):"
   ]
  },
  {
   "cell_type": "code",
   "execution_count": null,
   "id": "45670a38",
   "metadata": {},
   "outputs": [],
   "source": [
    "import numpy as np"
   ]
  },
  {
   "cell_type": "markdown",
   "id": "99ea9128",
   "metadata": {},
   "source": [
    "## First steps\n",
    "\n",
    "In NumPy, the equivalent of a Python list is an array. In fact, we can create an array from a list by passing it as the argument to the np.array() function:"
   ]
  },
  {
   "cell_type": "code",
   "execution_count": null,
   "id": "bf3be9f0",
   "metadata": {},
   "outputs": [],
   "source": [
    "my_list = [1, 2, 3, 4, 5, 10]\n",
    "my_array = np.array(my_list)"
   ]
  },
  {
   "cell_type": "markdown",
   "id": "79ec53d5",
   "metadata": {},
   "source": [
    "* What is the type of `my_array`?\n",
    "* Does `len()` work like you expect?\n",
    "* What happens if you index the array using square brackets (like you would for a list)?\n",
    "\n",
    "*Challenge*:\n",
    "* What does `my_array.size` do?  What about `my_array.shape`?\n",
    "* What about this array: `np.array([[1, 2, 3],[4, 5, 10]])`?"
   ]
  },
  {
   "cell_type": "markdown",
   "id": "e917c65e",
   "metadata": {},
   "source": [
    "## Easier math\n",
    "\n",
    "Assume we have `my_array` as defined above.  Try the following statements and figure out what they do:\n",
    "* `my_array` + 5\n",
    "* `my_array` ** 2\n",
    "* `my_array` + `my_array`"
   ]
  },
  {
   "cell_type": "code",
   "execution_count": null,
   "id": "5aeb6586",
   "metadata": {},
   "outputs": [],
   "source": [
    "# Your code here..."
   ]
  },
  {
   "cell_type": "markdown",
   "id": "82026b9a",
   "metadata": {},
   "source": [
    "*Challenge*:\n",
    "* What happens if you put a string into a NumPy array?  Why do you think this is?\n",
    "* What happens if you put a floating-point value into `my_array`?  Why?  What if you `add` a floating-point number to an array?  (Try printing `my_array.dtype`.)"
   ]
  },
  {
   "cell_type": "markdown",
   "id": "15c10707",
   "metadata": {},
   "source": [
    "## Creating arrays\n",
    "\n",
    "Numpy has many ways to create special arrays.  A couple of them are:\n",
    "* `linspace()` will create a linearly-spaced array of numbers.  It takes three arguments: `start`, `end`, and `number`.  `start` and `end` specify the ends of the range.  Unlike `range`, it is *inclusive* of the endpoint.  `number` specifies the number of points to use in the spacing (*not* the step).\n",
    "* `zeros()` will create an array of the given size, containing all zeros."
   ]
  },
  {
   "cell_type": "code",
   "execution_count": null,
   "id": "fdd967fc",
   "metadata": {},
   "outputs": [],
   "source": [
    "x = np.linspace(-1, 1, 21)\n",
    "print(x)"
   ]
  },
  {
   "cell_type": "markdown",
   "id": "5f5b038a",
   "metadata": {},
   "source": [
    "## Plotting with NumPy\n",
    "\n",
    "Matplotlib was created with NumPy in mind, so you can pass NumPy arrays directly to `plot()`, just like we did with lists.\n",
    "\n",
    "With that, we've got enough to replace your graphing calculator:"
   ]
  },
  {
   "cell_type": "code",
   "execution_count": null,
   "id": "cfbc02a0",
   "metadata": {},
   "outputs": [],
   "source": [
    "x = np.linspace(-5, 5, 20)\n",
    "y = x ** 3 - 3 * x**2 - 15 * x + 4\n",
    "\n",
    "import matplotlib.pyplot as plt\n",
    "plt.plot(x, y, '-x')\n",
    "plt.show()"
   ]
  },
  {
   "cell_type": "markdown",
   "id": "a5335f1f",
   "metadata": {},
   "source": [
    "## Booleans in NumPy\n",
    "\n",
    "What happens if you use a comparison operator on a NumPy array?"
   ]
  },
  {
   "cell_type": "code",
   "execution_count": null,
   "id": "ef7b336c",
   "metadata": {},
   "outputs": [],
   "source": [
    "b = np.array([-10, 5, 14, -2, 11, 12])"
   ]
  },
  {
   "cell_type": "markdown",
   "id": "38cb519a",
   "metadata": {},
   "source": [
    "Now we get to one of the coolest features of NumPy: logical indexing.\n",
    "\n",
    "If you use an *array of boolean (True/False) values* as the index for another array, then NumPy will select the elements where the index array is True:"
   ]
  },
  {
   "cell_type": "code",
   "execution_count": null,
   "id": "23bbca47",
   "metadata": {},
   "outputs": [],
   "source": [
    "select = np.array([True, True, False, False, False, True])\n",
    "b[select]"
   ]
  },
  {
   "cell_type": "markdown",
   "id": "b08cd904",
   "metadata": {},
   "source": [
    "Write NumPy code to select only the values >= 0."
   ]
  },
  {
   "cell_type": "code",
   "execution_count": null,
   "id": "f5221c91",
   "metadata": {},
   "outputs": [],
   "source": []
  },
  {
   "cell_type": "markdown",
   "id": "ea12a2a8",
   "metadata": {},
   "source": [
    "## What NumPy can't do\n",
    "\n",
    "NumPy arrays have many benefits over Python lists, but they don't do everything.  Specifically:\n",
    "* All elements in the array must have the same type.\n",
    "* You cannot remove items from an array.  However, you can create a new array, and just select the items you want to keep.\n",
    "* You cannot `append` to an array.  However, you can create a new array by mashing two arrays together (\"concatenation\")."
   ]
  },
  {
   "cell_type": "code",
   "execution_count": null,
   "id": "08b820ea",
   "metadata": {},
   "outputs": [],
   "source": [
    "a = np.array([1, 2, 3])\n",
    "\n",
    "# Note the extra parenthesis around the things being concatenated together!\n",
    "# This is because the function only accepts one argument, but that argument can\n",
    "# be a \"bundle\" (technically called a \"tuple\") of things to concatenate.\n",
    "#np.concatenate((a, [5]))\n",
    "\n",
    "a[1] = []\n",
    "print(a)"
   ]
  },
  {
   "cell_type": "markdown",
   "id": "f47de0ce",
   "metadata": {},
   "source": [
    "## Bonus: How fast is numpy (versus lists)?\n",
    "\n",
    "Numpy is faster than lists for certain operations.  To find out how much faster, we can use the IPython \"magic\" command `%%timeit` which executes a notebook cell as many times as it can in 2 seconds and reports how fast the cell runs on average.  Note that results are not saved (i.e., you'll have to run the cell without the magic if you want to use the results in a later cell.)\n",
    "\n",
    "First, let's see how long it takes to create a list/array containing integers from 0 to 1000000:"
   ]
  },
  {
   "cell_type": "code",
   "execution_count": null,
   "id": "346625b4",
   "metadata": {},
   "outputs": [],
   "source": [
    "%%timeit\n",
    "x_list = list(range(1000001))\n",
    "\n",
    "# There are worse ways to do this... how long do they take?"
   ]
  },
  {
   "cell_type": "code",
   "execution_count": null,
   "id": "f9110bbd",
   "metadata": {},
   "outputs": [],
   "source": [
    "%%timeit\n",
    "x_arr = np.linspace(0, 1000001, 1000001)"
   ]
  },
  {
   "cell_type": "markdown",
   "id": "9cc1a5ae",
   "metadata": {},
   "source": [
    "Write code to multiply every item in a list/array by 2, and compare the speeds."
   ]
  },
  {
   "cell_type": "code",
   "execution_count": null,
   "id": "622addd2",
   "metadata": {},
   "outputs": [],
   "source": [
    "# Run this cell to set up the lists for testing\n",
    "x_list = list(range(1000001))\n",
    "x_arr = np.linspace(0, 1000001, 1000001)"
   ]
  },
  {
   "cell_type": "code",
   "execution_count": null,
   "id": "0d028bf1",
   "metadata": {},
   "outputs": [],
   "source": [
    "%%timeit\n",
    "# Your code to multiply every item in a list by 2..."
   ]
  },
  {
   "cell_type": "code",
   "execution_count": null,
   "id": "4649dfe3",
   "metadata": {},
   "outputs": [],
   "source": [
    "%%timeit\n",
    "# Your code to multiply the values in a NumPy array by 2..."
   ]
  }
 ],
 "metadata": {
  "kernelspec": {
   "display_name": "Python 3",
   "language": "python",
   "name": "python3"
  },
  "language_info": {
   "codemirror_mode": {
    "name": "ipython",
    "version": 3
   },
   "file_extension": ".py",
   "mimetype": "text/x-python",
   "name": "python",
   "nbconvert_exporter": "python",
   "pygments_lexer": "ipython3",
   "version": "3.8.0"
  }
 },
 "nbformat": 4,
 "nbformat_minor": 5
}
