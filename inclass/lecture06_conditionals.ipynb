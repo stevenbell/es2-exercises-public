{
 "cells": [
  {
   "cell_type": "markdown",
   "id": "75fe13cc",
   "metadata": {},
   "source": [
    "# Conditionals (aka `if`-statements)\n",
    "\n",
    "Sometimes our programs need to do different things depending on a condition.  We can do this with Python's `if` statement."
   ]
  },
  {
   "cell_type": "code",
   "execution_count": null,
   "id": "bd1e8ccf",
   "metadata": {},
   "outputs": [],
   "source": [
    "x = 5\n",
    "y = 2\n",
    "if x > y:\n",
    "    print(\"x is bigger than y\")\n",
    "else:\n",
    "    print(\"x is small\")\n",
    "print(\"All done!\")"
   ]
  },
  {
   "cell_type": "markdown",
   "id": "01ab0353",
   "metadata": {},
   "source": [
    "Experiment with this code.  What happens if you\n",
    "* leave out the colon?\n",
    "* change the indentation?\n",
    "* delete the `else:` line? \n",
    "* replace `x > 2` with `x < 2`?\n",
    "\n",
    "*Challenge*:\n",
    "* What if `x` is not an integer? (e.g., a string, or `None`)"
   ]
  },
  {
   "cell_type": "markdown",
   "id": "72cf0116",
   "metadata": {},
   "source": [
    "## Comparing other things\n",
    "\n",
    "Try using some of these comparison operators in the code example above.  What do they do?\n",
    "* `x != y`\n",
    "* `x >= y`\n",
    "* `x <= y`\n",
    "* `x is y`\n",
    "* `x is not y`\n",
    "\n",
    "What about these comparison operators?\n",
    "* `x = y`\n",
    "* `x =< y`\n",
    "* `x == y`\n",
    "\n",
    "*Challenge*:\n",
    "* What happens when you compare strings?  Are capital or lowercase letters \"bigger\"?  What about punctuation?\n",
    "* What happens when you compare lists?  (Hint: it's similar to comparing strings)"
   ]
  },
  {
   "cell_type": "markdown",
   "id": "7d3c55ef",
   "metadata": {},
   "source": [
    "Predict what the code cells below will print:"
   ]
  },
  {
   "cell_type": "code",
   "execution_count": null,
   "id": "bdf97302",
   "metadata": {},
   "outputs": [],
   "source": [
    "course = \"ES 2\"\n",
    "if type(course) is not str:\n",
    "    print(\"The course code must be a string!\")"
   ]
  },
  {
   "cell_type": "code",
   "execution_count": null,
   "id": "82831a0d",
   "metadata": {},
   "outputs": [],
   "source": [
    "for i in range(10):\n",
    "    if i % 2 == 0:\n",
    "        print(i)\n",
    "    if i < 2:\n",
    "        print(\"lucky number\")"
   ]
  },
  {
   "cell_type": "markdown",
   "id": "7db493db",
   "metadata": {},
   "source": [
    "Write code in the cell below to check the length of the strings and print out whichever is longer.  It should do the right thing even if you change the contents of the strings."
   ]
  },
  {
   "cell_type": "code",
   "execution_count": null,
   "id": "a2143801",
   "metadata": {},
   "outputs": [],
   "source": [
    "string1 = \"I'm short.\"\n",
    "string2 = \"I am a protracted and eloquent string\"\n",
    "\n",
    "\n"
   ]
  },
  {
   "cell_type": "markdown",
   "id": "e2bba48f",
   "metadata": {},
   "source": [
    "## Combining conditions\n",
    "\n",
    "We can use the Python keywords `and`, `or` and `not` to link conditions together:"
   ]
  },
  {
   "cell_type": "code",
   "execution_count": null,
   "id": "817fbc7d",
   "metadata": {},
   "outputs": [],
   "source": [
    "x = 5\n",
    "if x > 0 and x < 10:\n",
    "    print(\"x is a single-digit number.\")"
   ]
  },
  {
   "cell_type": "code",
   "execution_count": null,
   "id": "d7d50826",
   "metadata": {},
   "outputs": [],
   "source": [
    "for i in range(20):\n",
    "    if i % 2 == 0 or i % 3 == 0 or i % 5 == 0:\n",
    "        print(\"{} is divisible by 2, 3, or 5\".format(i))"
   ]
  },
  {
   "cell_type": "markdown",
   "id": "2b29561e",
   "metadata": {},
   "source": [
    "## Some weird cases"
   ]
  },
  {
   "cell_type": "markdown",
   "id": "70e60c8b",
   "metadata": {},
   "source": [
    "What is the difference between `is` and `==`?"
   ]
  },
  {
   "cell_type": "code",
   "execution_count": null,
   "id": "ebf69a40",
   "metadata": {},
   "outputs": [],
   "source": [
    "a = [1, 2, 3]\n",
    "b = a\n",
    "c = [1, 2, 3]\n",
    "\n",
    "print(a)\n",
    "print(b)\n",
    "print(c)\n",
    "\n",
    "print(a == b)\n",
    "print(a is b)\n",
    "print(a == c)\n",
    "print(a is c)"
   ]
  },
  {
   "cell_type": "markdown",
   "id": "5436f312",
   "metadata": {},
   "source": [
    "Try running the code below:"
   ]
  },
  {
   "cell_type": "code",
   "execution_count": null,
   "id": "4ab881e4",
   "metadata": {},
   "outputs": [],
   "source": [
    "x = 3.2\n",
    "if x * 3 == 9.6:\n",
    "    print(\"Yay, multiplication!\")\n",
    "else:\n",
    "    print(\"Everything I know is a lie.\")"
   ]
  },
  {
   "cell_type": "markdown",
   "id": "c2e1933b",
   "metadata": {},
   "source": [
    "## Practice\n",
    "\n",
    "In the cell below, write code to print out all of the non-negative values of `a`."
   ]
  },
  {
   "cell_type": "code",
   "execution_count": null,
   "id": "35a3d1c0",
   "metadata": {},
   "outputs": [],
   "source": [
    "a = [0, -1, 2, -3, 4, -5, -6]\n"
   ]
  }
 ],
 "metadata": {
  "kernelspec": {
   "display_name": "Python 3",
   "language": "python",
   "name": "python3"
  },
  "language_info": {
   "codemirror_mode": {
    "name": "ipython",
    "version": 3
   },
   "file_extension": ".py",
   "mimetype": "text/x-python",
   "name": "python",
   "nbconvert_exporter": "python",
   "pygments_lexer": "ipython3",
   "version": "3.8.0"
  }
 },
 "nbformat": 4,
 "nbformat_minor": 5
}
